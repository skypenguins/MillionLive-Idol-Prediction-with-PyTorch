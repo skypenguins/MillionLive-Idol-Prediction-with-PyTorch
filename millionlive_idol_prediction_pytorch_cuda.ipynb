{
  "nbformat": 4,
  "nbformat_minor": 0,
  "metadata": {
    "colab": {
      "name": "millionlive_idol_prediction_pytorch_cuda",
      "version": "0.3.2",
      "provenance": [],
      "collapsed_sections": []
    },
    "kernelspec": {
      "name": "python3",
      "display_name": "Python 3"
    },
    "accelerator": "GPU"
  },
  "cells": [
    {
      "metadata": {
        "id": "UsJUnZCeDbby",
        "colab_type": "text"
      },
      "cell_type": "markdown",
      "source": [
        "# About Resources"
      ]
    },
    {
      "metadata": {
        "id": "o5rkeuD9Y8BR",
        "colab_type": "code",
        "outputId": "b5efae49-33d4-4900-902c-73286770314f",
        "colab": {
          "base_uri": "https://localhost:8080/",
          "height": 34
        }
      },
      "cell_type": "code",
      "source": [
        "!cat /proc/uptime | awk '{print $1 /60 \" mins (\" $1 \"sec)\"}'"
      ],
      "execution_count": 1,
      "outputs": [
        {
          "output_type": "stream",
          "text": [
            "1.0195 mins (61.17sec)\n"
          ],
          "name": "stdout"
        }
      ]
    },
    {
      "metadata": {
        "id": "S3Td9dg5Cr2x",
        "colab_type": "code",
        "outputId": "a80cfd5a-ac1c-48f2-960f-1c320da7c4d5",
        "colab": {
          "base_uri": "https://localhost:8080/",
          "height": 52
        }
      },
      "cell_type": "code",
      "source": [
        "!cat /etc/issue"
      ],
      "execution_count": 2,
      "outputs": [
        {
          "output_type": "stream",
          "text": [
            "Ubuntu 18.04.1 LTS \\n \\l\n",
            "\n"
          ],
          "name": "stdout"
        }
      ]
    },
    {
      "metadata": {
        "id": "qJBsIQfNC2J8",
        "colab_type": "code",
        "colab": {}
      },
      "cell_type": "code",
      "source": [
        "!df -h"
      ],
      "execution_count": 0,
      "outputs": []
    },
    {
      "metadata": {
        "id": "7RarurvYC-qY",
        "colab_type": "code",
        "colab": {}
      },
      "cell_type": "code",
      "source": [
        "!free -h"
      ],
      "execution_count": 0,
      "outputs": []
    },
    {
      "metadata": {
        "id": "lDy-JdGSDKY_",
        "colab_type": "code",
        "colab": {}
      },
      "cell_type": "code",
      "source": [
        "!cat /proc/cpuinfo"
      ],
      "execution_count": 0,
      "outputs": []
    },
    {
      "metadata": {
        "id": "Ie05IwFCDs1R",
        "colab_type": "code",
        "colab": {}
      },
      "cell_type": "code",
      "source": [
        "!nvidia-smi"
      ],
      "execution_count": 0,
      "outputs": []
    },
    {
      "metadata": {
        "id": "_rzZQcomrros",
        "colab_type": "text"
      },
      "cell_type": "markdown",
      "source": [
        "# Connecting to Google Drive"
      ]
    },
    {
      "metadata": {
        "id": "GhvNBg4VZD38",
        "colab_type": "code",
        "colab": {
          "base_uri": "https://localhost:8080/",
          "height": 34
        },
        "outputId": "8fb8ba0f-8047-4834-833d-1554b075cf53"
      },
      "cell_type": "code",
      "source": [
        "from google.colab import drive\n",
        "drive.mount('/content/drive')"
      ],
      "execution_count": 69,
      "outputs": [
        {
          "output_type": "stream",
          "text": [
            "Drive already mounted at /content/drive; to attempt to forcibly remount, call drive.mount(\"/content/drive\", force_remount=True).\n"
          ],
          "name": "stdout"
        }
      ]
    },
    {
      "metadata": {
        "id": "HNl7jOIY3SC0",
        "colab_type": "code",
        "colab": {
          "base_uri": "https://localhost:8080/",
          "height": 34
        },
        "outputId": "935dad48-5bc2-4c11-d9bc-11b095160180"
      },
      "cell_type": "code",
      "source": [
        "%cd /content/drive/My Drive"
      ],
      "execution_count": 70,
      "outputs": [
        {
          "output_type": "stream",
          "text": [
            "/content/drive/My Drive\n"
          ],
          "name": "stdout"
        }
      ]
    },
    {
      "metadata": {
        "id": "tAk-EDelZ4AW",
        "colab_type": "code",
        "colab": {}
      },
      "cell_type": "code",
      "source": [
        "!ls"
      ],
      "execution_count": 0,
      "outputs": []
    },
    {
      "metadata": {
        "id": "AO_zWVzXZIqX",
        "colab_type": "code",
        "colab": {}
      },
      "cell_type": "code",
      "source": [
        "!ls millionlive_idol_prediction/"
      ],
      "execution_count": 0,
      "outputs": []
    },
    {
      "metadata": {
        "id": "GEvqs-xgZAra",
        "colab_type": "text"
      },
      "cell_type": "markdown",
      "source": [
        "# Settings"
      ]
    },
    {
      "metadata": {
        "id": "gFEjmSgVcYl8",
        "colab_type": "code",
        "outputId": "cae88515-6483-4010-8994-363a3821c608",
        "colab": {
          "base_uri": "https://localhost:8080/",
          "height": 34
        }
      },
      "cell_type": "code",
      "source": [
        "!python --version"
      ],
      "execution_count": 74,
      "outputs": [
        {
          "output_type": "stream",
          "text": [
            "Python 3.6.7\n"
          ],
          "name": "stdout"
        }
      ]
    },
    {
      "metadata": {
        "id": "fGsn9g-0ZrBQ",
        "colab_type": "code",
        "colab": {}
      },
      "cell_type": "code",
      "source": [
        "%config inlineBackend.figure_format = 'retina'"
      ],
      "execution_count": 0,
      "outputs": []
    },
    {
      "metadata": {
        "id": "pD4KHAcir0Jd",
        "colab_type": "text"
      },
      "cell_type": "markdown",
      "source": [
        "# Training"
      ]
    },
    {
      "metadata": {
        "id": "IrL2XqyYZPH_",
        "colab_type": "code",
        "outputId": "1b46d38f-4b1b-46ee-8b07-fe052af31d91",
        "colab": {
          "base_uri": "https://localhost:8080/",
          "height": 34
        }
      },
      "cell_type": "code",
      "source": [
        "import torch\n",
        "import sys, os.path, glob, json\n",
        "from collections import OrderedDict\n",
        "import torch.nn as nn\n",
        "import torch.optim as optim\n",
        "from torch.utils.data import Dataset, DataLoader\n",
        "from sklearn.model_selection import train_test_split\n",
        "import pandas as pd\n",
        "import numpy as np\n",
        "import matplotlib as mpl\n",
        "import matplotlib.pyplot as plt\n",
        "import seaborn as sns\n",
        "from sklearn.metrics import classification_report\n",
        "from sklearn.metrics import confusion_matrix\n",
        "\n",
        "device = torch.device(\"cuda\" if torch.cuda.is_available() else \"cpu\")\n",
        "print(\"Device:\", device)\n",
        "\n",
        "root_dir = './millionlive_idol_prediction/'\n",
        "idol_script_file = root_dir + 'millionlive_idol_script_test.csv'\n",
        "tmp_dir = root_dir + 'tmp/'\n",
        "\n",
        "max_length = 90\n",
        "batch_size = 100\n",
        "\n",
        "class MillionLiveIdolScriptsDataset(Dataset):\n",
        "    \"\"\"\n",
        "    Script dataset of THE IDOLM@STER MILLION LIVE! idols.\n",
        "\n",
        "    Args:\n",
        "            csv_file (string): Path to the csv file which contains scripts per an idol.\n",
        "    \"\"\"\n",
        "    \n",
        "    def __init__(self, csv_file=idol_script_file, transform=None):\n",
        "        self.idol_data_frame = pd.read_csv(csv_file)\n",
        "        self.transform = transform\n",
        "\n",
        "        print(self.idol_data_frame)\n",
        "\n",
        "    def __len__(self):         \n",
        "        return len(self.idol_data_frame)\n",
        "        \n",
        "    def __getitem__(self, idx):\n",
        "        _id = self.idol_data_frame.iat[idx, 0] # Integer\n",
        "        _idol_id = self.idol_data_frame.iat[idx, 1]\n",
        "        _script = self.idol_data_frame.iat[idx, 2]\n",
        "\n",
        "        if self.transform:\n",
        "            _id, _idol_id, _script = self.transform(_id, _idol_id, _script)\n",
        "\n",
        "        return _id, _idol_id, _script\n",
        "\n",
        "class StringToTensor(object):\n",
        "    \"\"\"\n",
        "    Convert the id in sample to Tensors.\n",
        "    Then turn the script in sample into Unicode code points and convert it to Tensors.\n",
        "    \"\"\"\n",
        "\n",
        "    def __init__(self, max_length):\n",
        "        self.max_length = max_length\n",
        "    \n",
        "    def __string_to_codepoint(self, _str):\n",
        "        _encoded_str = [ord(_x) for _x in str(_str).strip()]\n",
        "        # Return an encoded string as an array like below.\n",
        "        # [12450, 12452, 12489, 12523, 12395, 12394, 12387, 12390, 12289, 31169, 12398, 22818, 12395, 33394, 12364, 12388, 12365, 12414, 12375, 12383, 12290, 20449, 12376, 12390, 27497, 12365, 32154, 12369, 12390, 12356, 12428, 12400, 12289, 12365, 12387, 12392, 12289, 12356, 12388, 12363, 8230, 12290, 12503, 12525, 12487, 12517, 12540, 12469, 12540, 12290, 31169, 12289, 32118, 23550, 12395, 23626, 12369, 12390, 12415, 12379, 12414, 12377, 12397, 65281]\n",
        "        _encoded_str = _encoded_str[:self.max_length]\n",
        "        _str_len = len(str(_str)) # String length\n",
        "        if _str_len < self.max_length: # If string length is less than a num of max_length, do zero padding\n",
        "            _encoded_str += ([0] * (self.max_length - _str_len))\n",
        "        \n",
        "        return _encoded_str\n",
        "\n",
        "    def __call__(self, _id, _idol_id, _script):\n",
        "        \n",
        "        _script = self.__string_to_codepoint(_script)\n",
        "\n",
        "        return _id, _idol_id, torch.tensor(_script, dtype=torch.long)\n",
        "    \n",
        "class CLCNN(nn.Module):\n",
        "    def __init__(self, embed_size=256, filter_sizes=(2, 3, 4, 5), filter_num=512, max_length=max_length):\n",
        "        super(CLCNN, self).__init__() # Call a method of super class.\n",
        "        self.filter_sizes = filter_sizes\n",
        "        self.filter_num = filter_num\n",
        "        \n",
        "        self.emb = nn.Embedding(0xffff, embed_size, padding_idx=0) # Get only kinds of three-byte characters of UTF-8\n",
        "        \n",
        "        # Convolution layer\n",
        "        self.conv0 = nn.Sequential(\n",
        "            nn.Conv2d(1, filter_num, (filter_sizes[0], embed_size)),\n",
        "            nn.ReLU(),\n",
        "            nn.MaxPool2d((max_length - filter_sizes[0] + 1, 1))\n",
        "        )\n",
        "        \n",
        "        self.conv1 = nn.Sequential(\n",
        "            nn.Conv2d(1, filter_num, (filter_sizes[1], embed_size)),\n",
        "            nn.ReLU(),\n",
        "            nn.MaxPool2d((max_length - filter_sizes[1] + 1, 1))\n",
        "        )\n",
        "        \n",
        "        self.conv2 = nn.Sequential(\n",
        "            nn.Conv2d(1, filter_num, (filter_sizes[2], embed_size)),\n",
        "            nn.ReLU(),\n",
        "            nn.MaxPool2d((max_length - filter_sizes[2] + 1, 1))\n",
        "        )\n",
        "        \n",
        "        self.conv3 = nn.Sequential(\n",
        "            nn.Conv2d(1, filter_num, (filter_sizes[3], embed_size)),\n",
        "            nn.ReLU(),\n",
        "            nn.MaxPool2d((max_length - filter_sizes[3] + 1, 1))\n",
        "        )\n",
        "        \n",
        "        # Fully connected layer\n",
        "        self.dense = nn.Sequential(\n",
        "            nn.Linear(filter_num * len(self.filter_sizes), 64),\n",
        "            nn.ReLU(),\n",
        "            nn.BatchNorm1d(64),\n",
        "            nn.Dropout(0.3),\n",
        "            nn.Linear(64, 9),\n",
        "            nn.Softmax(dim=1)\n",
        "        )\n",
        "    \n",
        "    def forward(self, x):\n",
        "        #print('input:', x.size())\n",
        "        out = self.emb(x)\n",
        "        #print('emb:', out.size())\n",
        "        emb_out = out.unsqueeze(1) # Insert a dimension\n",
        "        #print('emb_ex:', emb_out.size())\n",
        "\n",
        "        concat_out = torch.cat((self.conv0(emb_out), self.conv1(emb_out), self.conv2(emb_out), self.conv3(emb_out)), 1)\n",
        "        #print('concatnated:', concat_out.size())\n",
        "        out = concat_out.view(-1, self.filter_num * len(self.filter_sizes))\n",
        "        #print('flatten:', out.size())\n",
        "        out = self.dense(out)\n",
        "        #print('output:', out.size())\n",
        "        \n",
        "        return out\n",
        "        \n",
        "def train(model, optimizer, criterion, train_loader):\n",
        "    model.train()\n",
        "    running_loss = 0\n",
        "    for batch_idx, (labels, idol_ids, scripts)  in enumerate(train_loader):\n",
        "        labels = labels.to(device)\n",
        "        scripts = scripts.to(device)\n",
        "\n",
        "        optimizer.zero_grad()\n",
        "        outputs = model(scripts)\n",
        "\n",
        "        loss = criterion(outputs, labels)\n",
        "        running_loss += loss.item()\n",
        "\n",
        "        loss.backward()\n",
        "        optimizer.step()\n",
        "    \n",
        "    train_loss = running_loss / len(train_loader)\n",
        "\n",
        "    return train_loss\n",
        "\n",
        "def valid(model, optimizer, criterion, test_loader):\n",
        "    model.eval()\n",
        "    running_loss = 0\n",
        "    correct = 0\n",
        "    total = 0\n",
        "\n",
        "    with torch.no_grad():\n",
        "        for batch_idx, (labels, idol_ids, scripts)  in enumerate(test_loader):\n",
        "            labels = labels.to(device)\n",
        "            scripts = scripts.to(device)\n",
        "\n",
        "            outputs = model(scripts)\n",
        "\n",
        "            loss = criterion(outputs, labels)\n",
        "            running_loss += loss.item()\n",
        "\n",
        "            predicted = outputs.max(1, keepdim=True)[1] # Get the index of the max log-probability\n",
        "            correct += predicted.eq(labels.view_as(predicted)).sum().item()\n",
        "            total += labels.size(0) # Dim 0 is Batch size\n",
        "    \n",
        "    val_loss = running_loss / len(test_loader)\n",
        "    val_acc = correct / total\n",
        "\n",
        "    return val_loss, val_acc\n",
        "\n",
        "def fit(model, optimizer, criterion, train_loader, test_loader, learning_rate, num_epochs):\n",
        "    loss_list = []\n",
        "    val_loss_list = []\n",
        "    val_acc_list = []\n",
        "    for epoch in range(num_epochs):\n",
        "        loss = train(model, optimizer, criterion, train_loader)\n",
        "        val_loss, val_acc = valid(model, optimizer, criterion, test_loader)\n",
        "\n",
        "        print('epoch %d, loss: %.4f val_loss: %.4f val_acc: %.4f' % (epoch, loss, val_loss, val_acc))\n",
        "\n",
        "        # Logging\n",
        "        loss_list.append(loss)\n",
        "        val_loss_list.append(val_loss)\n",
        "        val_acc_list.append(val_acc)\n",
        "    \n",
        "    print('Finished training.')\n",
        "    \n",
        "    # Save the trained model\n",
        "    #np.save('loss_list.npy', np.array(loss_list))\n",
        "    #np.save('val_loss_list.npy', np.array(val_loss_list))\n",
        "    #np.save('val_acc_list.npy', np.array(val_acc_list))\n",
        "    torch.save(model.state_dict(), root_dir + 'clcnn.pkl')\n",
        "    \n",
        "    return loss_list, val_loss_list, val_acc_list\n",
        "\n",
        "def plot_history(loss_list, val_loss_list, val_acc_list):\n",
        "    # Plot loss curve\n",
        "    display('Model Loss')\n",
        "    plt.plot(loss_list,\".-\",label=\"loss\",)\n",
        "    plt.plot(val_loss_list,\".-\",label=\"val_loss\")\n",
        "    plt.title('model loss')\n",
        "    plt.xlabel('epoch')\n",
        "    plt.ylabel('loss')\n",
        "    plt.legend()\n",
        "    plt.show()\n",
        "\n",
        "    # Plot accurancy curve\n",
        "    display('Model Acc')\n",
        "    #plt.plot(history.history['acc'],\".-\",label=\"accuracy\")\n",
        "    plt.plot(val_acc_list,\".-\",label=\"val_acc\")\n",
        "    plt.title('model accuracy')\n",
        "    plt.xlabel('epoch')\n",
        "    plt.ylabel('accuracy')\n",
        "    plt.legend()\n",
        "    plt.show()\n",
        "\n",
        "def result_report(model, test_loader):\n",
        "    global idol_dict\n",
        "    # Classification Report\n",
        "    y_true = []\n",
        "    y_pred = []\n",
        "    for i, (y, z, x) in enumerate(test_loader):\n",
        "        y = y.to(device)\n",
        "        x = x.to(device)\n",
        "\n",
        "        with torch.no_grad():\n",
        "            output = model(x)\n",
        "        y_pred += [idol_dict[int(l.argmax())] for l in output]\n",
        "        y_true += [idol_dict[int(l)] for l in y]\n",
        "\n",
        "    print(classification_report(y_true, y_pred))\n",
        "    \n",
        "    # Confusion Matrix\n",
        "    plt.figure()\n",
        "    fig, ax = plt.subplots(figsize=(9, 6)) \n",
        "    labels = [idol_dict[i] for i in range(len(idol_dict))]\n",
        "    cmx_data = confusion_matrix(y_true, y_pred, labels=labels)\n",
        "    cmx_df = pd.DataFrame(cmx_data, index=labels, columns=labels)\n",
        "    sns.heatmap(cmx_df, square=True, annot=True, cmap='Blues')\n",
        "    plt.savefig(root_dir + 'cmx.png')"
      ],
      "execution_count": 76,
      "outputs": [
        {
          "output_type": "stream",
          "text": [
            "Device: cuda\n"
          ],
          "name": "stdout"
        }
      ]
    },
    {
      "metadata": {
        "id": "mYwF6yOVHL1u",
        "colab_type": "code",
        "colab": {
          "base_uri": "https://localhost:8080/",
          "height": 2553
        },
        "outputId": "b1224509-82f6-49e8-d6ba-08a935824505"
      },
      "cell_type": "code",
      "source": [
        "# Million Live Idol Scripts Dataset (Scripts and Labels)\n",
        "transformed_script_dataset = MillionLiveIdolScriptsDataset(transform=StringToTensor(max_length))\n",
        "# Split dataset\n",
        "train_data, test_data = train_test_split(transformed_script_dataset, test_size=0.25)\n",
        "# Dataset Loader\n",
        "train_loader = DataLoader(train_data, batch_size=batch_size, shuffle=True, num_workers=10)\n",
        "test_loader = DataLoader(test_data, batch_size=batch_size, shuffle=False, num_workers=10)\n",
        "\n",
        "\"\"\"\n",
        "for i_batch, (id, idol_id, script)  in enumerate(train_loader):\n",
        "    print('index:', i_batch)\n",
        "    print('id:', id.size())\n",
        "    print('idol_id:', idol_id)\n",
        "    print('script:', script.size())\n",
        "\"\"\"\n",
        "learning_rate = 0.001\n",
        "num_epochs = 50\n",
        "\n",
        "# Create model\n",
        "model = CLCNN(max_length=max_length).to(device)\n",
        "optimizer = optim.Adam(model.parameters(), lr=learning_rate)\n",
        "criterion = nn.CrossEntropyLoss()\n",
        "print(model)\n",
        "\n",
        "# Generate an idol dictionary\n",
        "idol_df = transformed_script_dataset.idol_data_frame.set_index('id')\n",
        "idol_dict = idol_df['idol_id'].drop_duplicates().to_dict()\n",
        "\n",
        "# Fit\n",
        "loss_list, val_loss_list, val_acc_list = fit(model, optimizer, criterion, train_loader, test_loader, learning_rate, num_epochs)"
      ],
      "execution_count": 97,
      "outputs": [
        {
          "output_type": "stream",
          "text": [
            "      id  idol_id                                             script\n",
            "0      0   haruka                 トップアイドル目指して、歌も踊りも頑張ります！よろしくお願いします♪\n",
            "1      0   haruka                               お仕事、頑張るぞー！なーんて、えへへ…。\n",
            "2      0   haruka                                   張り切っていっちゃいましょうっ！\n",
            "3      0   haruka                      あの、クッキー焼いてきたんですけど、食べてもらえますか…？\n",
            "4      0   haruka                              プロデューサーさん、いつもお疲れさまです♪\n",
            "5      0   haruka                          いたたた…。うう、事務所の前で転んじゃいました…。\n",
            "6      0   haruka                             えへへっ。私、すっごくワクワクしてきました！\n",
            "7      0   haruka                             よろしくお願いします、プロデューサーさんっ！\n",
            "8      0   haruka            ふわあぁ～…っ！あっ、す、すみません！恥ずかしいところ、見られちゃいました…。\n",
            "9      0   haruka  私を応援してくれてるファンの人って、どのぐらいいるのかなぁ…。プロデューサーさん、気になりま...\n",
            "10     0   haruka      昨日、劇場のみんなとカラオケに行ってきたんです！プロデューサーさんも来ればよかったのに～。\n",
            "11     0   haruka                       プロデューサーさんとなら私、どこまでも頑張れそうですっ！\n",
            "12     0   haruka  プロデューサーさん、ケーキとクッキーだったらどっちが好きですか？…あ、えっとその、今後の参考...\n",
            "13     0   haruka   プロデューサーさん、私、まだまだ満足したくないですっ！もっともっと、たくさん歌を歌いたいから…！\n",
            "14     0   haruka           あの、プロデューサーさんの好きなお料理って何ですか？…練習しとこうかな、なんて♪\n",
            "15     0   haruka           プロデューサーさん、あんまりムリはしないで下さいね？やっぱり、健康が第一ですよ！\n",
            "16     0   haruka    アイドルをお仕事にできるなんて、私って本当に幸せです♪おまけに担当がプロデューサーさんですし！\n",
            "17     0   haruka    もっといろんなイベントで、ファンのみんなやプロデューサーさんと一緒に楽しんでいけたらいいな…♪\n",
            "18     0   haruka       私達も劇場も、成長していくんですよね。これからどんなふうに変わるか、とっても楽しみです♪\n",
            "19     0   haruka  いつも私の相談にのってもらってばかりですよね。よし、今度は私が相談のりますよ、プロデュ－サ－さん♪\n",
            "20     0   haruka       劇場のみんなと、プロデュ－サ－さんと一緒に…。ずっとこういう日が続けばいいなぁ、なんて♪\n",
            "21     0   haruka       あっ！あんなところに、手作りのお菓子屋さんが！？時間があったらゼッタイ寄ったのになぁ…。\n",
            "22     0   haruka                                えへへっ♪歌のお仕事って、大好きです！\n",
            "23     0   haruka                            こんなステキな曲が歌えるなんて…夢みたいです！\n",
            "24     0   haruka                          わぁ…かわいい衣装！着るのが楽しみです！えへへっ♪\n",
            "25     0   haruka                                   わわっ！！ご、ごめんなさいっ！！\n",
            "26     0   haruka                            ファンのみんなにも楽しんでもらえてるのかな…？\n",
            "27     0   haruka                              プロデューサーさん、のどかわいてませんか？\n",
            "28     0   haruka                           元気がよくてよろしい、ってほめられちゃいました！\n",
            "29     0   haruka                               失敗しちゃいました。うう…すみません…。\n",
            "...   ..      ...                                                ...\n",
            "1505   8  matsuri  お外は寒くて、まつりはぶるぶるなのです～。;焼きマシュマロココアを飲めば、姫はぱわほー！にな...\n",
            "1506   8  matsuri  プロデューサーさんと過ごすこの時間があれば、姫は他に何もいらないのですよ。…でも、ありがとう...\n",
            "1507   8  matsuri  ほ？プロデューサーさんも、まつりの達人姿が見たいのですね。…画面？見なくても大丈夫です。リズ...\n",
            "1508   8  matsuri  …ほ？心外なのですよ。まつりはマシュマロより、焼きマシュマロが大好きなのですよ。…ほ？ある？...\n",
            "1509   8  matsuri  まつりはマシュマロがだーい好きなのですよ？テレビをみているみんなも、好き嫌いなんてしちゃダメ...\n",
            "1510   8  matsuri                                      まつりとウェディングドレス\n",
            "1511   8  matsuri  ほ？…まだメイク中なのに、まつりに会いたくなってしまったのです？でももう少しだけ、いい子で待...\n",
            "1512   8  matsuri                                      まつりとウェディングドレス\n",
            "1513   8  matsuri  プロデューサーさん、今日は本当にありがとうなのです。こんなに綺麗な衣装を用意してくれて。これ...\n",
            "1514   8  matsuri  はいほー！！まつり姫が、だいなみっくに登場なのです！今日はまつり達が、みんなをメロメロにして...\n",
            "1515   8  matsuri  はふっ、はふっ…ふかふかで熱々の中華まん、とってもおいしいのです！プロデューサーさん、次は姫...\n",
            "1516   8  matsuri                       あなたに出会えて、心からうれしい…私も、同じ気持ちだよ。\n",
            "1517   8  matsuri  ふわふわぷかぷか、綺麗なしゃぼん玉がステージにいっぱいなのです。みんなまつりのしゃぼん玉で、...\n",
            "1518   8  matsuri  全国のみんなと会えて、まつりはとっても嬉しいのです。今夜は姫のふわふわな魔法で、とびきり･は...\n",
            "1519   8  matsuri  全国のみんなと会えて、まつりはとっても嬉しいのです。今夜は姫のふわふわな魔法で、とびきり･は...\n",
            "1520   8  matsuri                                         羽ゴコロ、乙女ゴコロ\n",
            "1521   8  matsuri  相手チームさん、やるのです。千鶴ちゃん、ここは作戦通り…一気に仕掛けましょう。姫達の麗しい連...\n",
            "1522   8  matsuri                                         羽ゴコロ、乙女ゴコロ\n",
            "1523   8  matsuri  終わりは寂しいけど、きっと次があるのです。さぁみんな、まつりのとびきり・わんだほー！な閉会式...\n",
            "1524   8  matsuri  姫特製の、とびきり・きゅーと！な羽子板で今年最初のびくとりー！をつかんだのです。姫の完璧なシ...\n",
            "1525   8  matsuri  ほ？お正月から、みんな姫に会いに来てくれたのです？お礼に姫の歌で、みんなをはっぴー！でぶらぼ...\n",
            "1526   8  matsuri  ほ？みんな、とってもキラキラしているのです。姫も負けてはいられません。ファンのみんなにびゅー...\n",
            "1527   8  matsuri  ほ？みんな、とってもキラキラしているのです。姫も負けてはいられません。ファンのみんなにびゅー...\n",
            "1528   8  matsuri  麗花ちゃん、運転お疲れさま。とっても楽しいドライブだったのですよ。ふふっ…こうしてみんなと海...\n",
            "1529   8  matsuri  しーっ…みんな、起こしちゃだめなのです。音を立てないように、そーっと歩くのですよ？…歩ちゃん...\n",
            "1530   8  matsuri  はいほー！姫の歌で、お菓子みたいに甘くて、とびきり･わんだほーな1日にするのです♪みんな、魔...\n",
            "1531   8  matsuri  ほ？…このいちごさんが、食べたいのですか？そんなにジロジロ見られたら、いちごさん、まつりのお...\n",
            "1532   8  matsuri  みんな、まつりのお城にようこそなのです！わんだほー！でびゅーてぃほー！なステージをお届けする...\n",
            "1533   8  matsuri  秋葉原、わんだほーな街で、姫、大満足です！気になっていた漫画も見つけられて…ほ？あれは、この...\n",
            "1534   8  matsuri  お祭りの夜は、女の子の晴れ舞台…甘いお菓子も花火も、貴方とだから特別なんだよ。…さあ、みんな...\n",
            "\n",
            "[1535 rows x 3 columns]\n",
            "CLCNN(\n",
            "  (emb): Embedding(65535, 256, padding_idx=0)\n",
            "  (conv0): Sequential(\n",
            "    (0): Conv2d(1, 512, kernel_size=(2, 256), stride=(1, 1))\n",
            "    (1): ReLU()\n",
            "    (2): MaxPool2d(kernel_size=(89, 1), stride=(89, 1), padding=0, dilation=1, ceil_mode=False)\n",
            "  )\n",
            "  (conv1): Sequential(\n",
            "    (0): Conv2d(1, 512, kernel_size=(3, 256), stride=(1, 1))\n",
            "    (1): ReLU()\n",
            "    (2): MaxPool2d(kernel_size=(88, 1), stride=(88, 1), padding=0, dilation=1, ceil_mode=False)\n",
            "  )\n",
            "  (conv2): Sequential(\n",
            "    (0): Conv2d(1, 512, kernel_size=(4, 256), stride=(1, 1))\n",
            "    (1): ReLU()\n",
            "    (2): MaxPool2d(kernel_size=(87, 1), stride=(87, 1), padding=0, dilation=1, ceil_mode=False)\n",
            "  )\n",
            "  (conv3): Sequential(\n",
            "    (0): Conv2d(1, 512, kernel_size=(5, 256), stride=(1, 1))\n",
            "    (1): ReLU()\n",
            "    (2): MaxPool2d(kernel_size=(86, 1), stride=(86, 1), padding=0, dilation=1, ceil_mode=False)\n",
            "  )\n",
            "  (dense): Sequential(\n",
            "    (0): Linear(in_features=2048, out_features=64, bias=True)\n",
            "    (1): ReLU()\n",
            "    (2): BatchNorm1d(64, eps=1e-05, momentum=0.1, affine=True, track_running_stats=True)\n",
            "    (3): Dropout(p=0.3)\n",
            "    (4): Linear(in_features=64, out_features=9, bias=True)\n",
            "    (5): Softmax()\n",
            "  )\n",
            ")\n",
            "epoch 0, loss: 2.1570 val_loss: 2.1138 val_acc: 0.2943\n",
            "epoch 1, loss: 2.0898 val_loss: 2.0561 val_acc: 0.4323\n",
            "epoch 2, loss: 2.0449 val_loss: 2.0442 val_acc: 0.5208\n",
            "epoch 3, loss: 1.9965 val_loss: 2.0444 val_acc: 0.6250\n",
            "epoch 4, loss: 1.9450 val_loss: 2.0106 val_acc: 0.5651\n",
            "epoch 5, loss: 1.8848 val_loss: 2.0169 val_acc: 0.5208\n",
            "epoch 6, loss: 1.8097 val_loss: 1.9962 val_acc: 0.4271\n",
            "epoch 7, loss: 1.7476 val_loss: 1.9625 val_acc: 0.5677\n",
            "epoch 8, loss: 1.6816 val_loss: 1.9262 val_acc: 0.6250\n",
            "epoch 9, loss: 1.6099 val_loss: 1.8858 val_acc: 0.6771\n",
            "epoch 10, loss: 1.5648 val_loss: 1.8709 val_acc: 0.6693\n",
            "epoch 11, loss: 1.5259 val_loss: 1.8595 val_acc: 0.6771\n",
            "epoch 12, loss: 1.4998 val_loss: 1.8482 val_acc: 0.7083\n",
            "epoch 13, loss: 1.4737 val_loss: 1.8188 val_acc: 0.7135\n",
            "epoch 14, loss: 1.4636 val_loss: 1.7987 val_acc: 0.7318\n",
            "epoch 15, loss: 1.4480 val_loss: 1.7949 val_acc: 0.7135\n",
            "epoch 16, loss: 1.4384 val_loss: 1.7951 val_acc: 0.7161\n",
            "epoch 17, loss: 1.4320 val_loss: 1.8001 val_acc: 0.7031\n",
            "epoch 18, loss: 1.4247 val_loss: 1.7854 val_acc: 0.7031\n",
            "epoch 19, loss: 1.4188 val_loss: 1.7862 val_acc: 0.7344\n",
            "epoch 20, loss: 1.4148 val_loss: 1.7865 val_acc: 0.6823\n",
            "epoch 21, loss: 1.4098 val_loss: 1.8107 val_acc: 0.6589\n",
            "epoch 22, loss: 1.4079 val_loss: 1.7543 val_acc: 0.7370\n",
            "epoch 23, loss: 1.4032 val_loss: 1.7394 val_acc: 0.7526\n",
            "epoch 24, loss: 1.4012 val_loss: 1.7483 val_acc: 0.7396\n",
            "epoch 25, loss: 1.3968 val_loss: 1.7446 val_acc: 0.7448\n",
            "epoch 26, loss: 1.3973 val_loss: 1.7564 val_acc: 0.7109\n",
            "epoch 27, loss: 1.3958 val_loss: 1.7527 val_acc: 0.6901\n",
            "epoch 28, loss: 1.3950 val_loss: 1.7354 val_acc: 0.7292\n",
            "epoch 29, loss: 1.3923 val_loss: 1.7542 val_acc: 0.7214\n",
            "epoch 30, loss: 1.3911 val_loss: 1.7246 val_acc: 0.7474\n",
            "epoch 31, loss: 1.3905 val_loss: 1.7314 val_acc: 0.7500\n",
            "epoch 32, loss: 1.3905 val_loss: 1.7233 val_acc: 0.7604\n",
            "epoch 33, loss: 1.3884 val_loss: 1.7302 val_acc: 0.7552\n",
            "epoch 34, loss: 1.3878 val_loss: 1.7243 val_acc: 0.7057\n",
            "epoch 35, loss: 1.3871 val_loss: 1.7284 val_acc: 0.7240\n",
            "epoch 36, loss: 1.3858 val_loss: 1.7206 val_acc: 0.7474\n",
            "epoch 37, loss: 1.3849 val_loss: 1.7177 val_acc: 0.7604\n",
            "epoch 38, loss: 1.3855 val_loss: 1.7124 val_acc: 0.7318\n",
            "epoch 39, loss: 1.3851 val_loss: 1.7089 val_acc: 0.7474\n",
            "epoch 40, loss: 1.3841 val_loss: 1.7183 val_acc: 0.7630\n",
            "epoch 41, loss: 1.3851 val_loss: 1.7027 val_acc: 0.7526\n",
            "epoch 42, loss: 1.3837 val_loss: 1.7066 val_acc: 0.7500\n",
            "epoch 43, loss: 1.3839 val_loss: 1.7165 val_acc: 0.7214\n",
            "epoch 44, loss: 1.3843 val_loss: 1.7159 val_acc: 0.7344\n",
            "epoch 45, loss: 1.3839 val_loss: 1.7074 val_acc: 0.7240\n",
            "epoch 46, loss: 1.3824 val_loss: 1.7239 val_acc: 0.7161\n",
            "epoch 47, loss: 1.3824 val_loss: 1.6978 val_acc: 0.7500\n",
            "epoch 48, loss: 1.3814 val_loss: 1.7023 val_acc: 0.7604\n",
            "epoch 49, loss: 1.3825 val_loss: 1.7032 val_acc: 0.7396\n",
            "Finished training.\n"
          ],
          "name": "stdout"
        }
      ]
    },
    {
      "metadata": {
        "id": "V_tYFThFGu_C",
        "colab_type": "text"
      },
      "cell_type": "markdown",
      "source": [
        "## Model Loss and Model Accurancy"
      ]
    },
    {
      "metadata": {
        "id": "twwxuKX0G4F2",
        "colab_type": "code",
        "colab": {
          "base_uri": "https://localhost:8080/",
          "height": 770
        },
        "outputId": "fb9b9371-9533-409f-8277-d74d39f81b08"
      },
      "cell_type": "code",
      "source": [
        "plot_history(loss_list, val_loss_list, val_acc_list)"
      ],
      "execution_count": 98,
      "outputs": [
        {
          "output_type": "display_data",
          "data": {
            "text/plain": [
              "'Model Loss'"
            ]
          },
          "metadata": {
            "tags": []
          }
        },
        {
          "output_type": "display_data",
          "data": {
            "image/png": "[encoded data removed]",
            "text/plain": [
              "<Figure size 576x396 with 1 Axes>"
            ]
          },
          "metadata": {
            "tags": []
          }
        },
        {
          "output_type": "display_data",
          "data": {
            "text/plain": [
              "'Model Acc'"
            ]
          },
          "metadata": {
            "tags": []
          }
        },
        {
          "output_type": "display_data",
          "data": {
            "image/png": "[encoded data removed]",
            "text/plain": [
              "<Figure size 576x396 with 1 Axes>"
            ]
          },
          "metadata": {
            "tags": []
          }
        }
      ]
    },
    {
      "metadata": {
        "id": "x7jj-L7SG5pr",
        "colab_type": "text"
      },
      "cell_type": "markdown",
      "source": [
        "## Reports"
      ]
    },
    {
      "metadata": {
        "id": "teaECcW9G5b7",
        "colab_type": "code",
        "colab": {
          "base_uri": "https://localhost:8080/",
          "height": 669
        },
        "outputId": "20d40e80-a86d-4c82-f5e1-b57dce9bc633"
      },
      "cell_type": "code",
      "source": [
        "result_report(model, test_loader)"
      ],
      "execution_count": 99,
      "outputs": [
        {
          "output_type": "stream",
          "text": [
            "              precision    recall  f1-score   support\n",
            "\n",
            "     chihaya       0.79      0.30      0.43        50\n",
            "       emily       1.00      0.66      0.79        41\n",
            "      haruka       0.68      0.77      0.72        47\n",
            "       karen       0.67      0.93      0.78        45\n",
            "     matsuri       1.00      0.98      0.99        45\n",
            "      mizuki       0.67      0.89      0.76        44\n",
            "       shiho       0.69      0.66      0.67        44\n",
            "      takane       0.56      0.88      0.68        33\n",
            "      yukiho       0.88      0.66      0.75        35\n",
            "\n",
            "   micro avg       0.74      0.74      0.74       384\n",
            "   macro avg       0.77      0.75      0.73       384\n",
            "weighted avg       0.77      0.74      0.73       384\n",
            "\n"
          ],
          "name": "stdout"
        },
        {
          "output_type": "display_data",
          "data": {
            "text/plain": [
              "<Figure size 576x396 with 0 Axes>"
            ]
          },
          "metadata": {
            "tags": []
          }
        },
        {
          "output_type": "display_data",
          "data": {
            "image/png": "[encoded data removed]",
            "text/plain": [
              "<Figure size 648x432 with 2 Axes>"
            ]
          },
          "metadata": {
            "tags": []
          }
        }
      ]
    },
    {
      "metadata": {
        "id": "kfVAWbrUrX8x",
        "colab_type": "text"
      },
      "cell_type": "markdown",
      "source": [
        "# Prediction"
      ]
    },
    {
      "metadata": {
        "id": "sg44cWKIoiKA",
        "colab_type": "code",
        "colab": {}
      },
      "cell_type": "code",
      "source": [
        "def string_to_codepoint(_str, max_length=max_length):\n",
        "    _encoded_str = [ord(_x) for _x in str(_str).strip()]\n",
        "    _encoded_str = _encoded_str[:max_length]\n",
        "    _str_len = len(str(_str)) # String length\n",
        "    if _str_len < max_length: # If string length is less than a num of max_length, do zero padding\n",
        "        _encoded_str += ([0] * (max_length - _str_len))\n",
        "    \n",
        "    return _encoded_str"
      ],
      "execution_count": 0,
      "outputs": []
    },
    {
      "metadata": {
        "id": "XONpG0gWrmbA",
        "colab_type": "code",
        "colab": {}
      },
      "cell_type": "code",
      "source": [
        "def predict(model, input_str):\n",
        "    model = model.eval()\n",
        "    with torch.no_grad():\n",
        "        output = model(input_str)\n",
        "    \n",
        "    return output"
      ],
      "execution_count": 0,
      "outputs": []
    },
    {
      "metadata": {
        "id": "R7_EgclOqwZg",
        "colab_type": "code",
        "outputId": "fc298ac8-8cfd-436a-a257-b26b23cd06be",
        "colab": {
          "base_uri": "https://localhost:8080/",
          "height": 349
        }
      },
      "cell_type": "code",
      "source": [
        "encoded_str = torch.LongTensor(string_to_codepoint(input('Type a script:'))).unsqueeze(0).to(device)\n",
        "#print(encoded_str.size())\n",
        "result = predict(model, encoded_str)\n",
        "res_df = pd.DataFrame(result.cpu().numpy())\n",
        "res_df.rename(columns=idol_dict, index={0: 'likelihood'}, inplace=True)\n",
        "res_df = res_df.T.sort_values('likelihood', ascending=False)\n",
        "res_df"
      ],
      "execution_count": 102,
      "outputs": [
        {
          "output_type": "stream",
          "text": [
            "Type a script:あの、プロデューサーさん。来週のスケジュールなんですけど。少し、相談にのってほしくて……時間がある時でいいので、お願いします。\n"
          ],
          "name": "stdout"
        },
        {
          "output_type": "execute_result",
          "data": {
            "text/html": [
              "<div>\n",
              "<style scoped>\n",
              "    .dataframe tbody tr th:only-of-type {\n",
              "        vertical-align: middle;\n",
              "    }\n",
              "\n",
              "    .dataframe tbody tr th {\n",
              "        vertical-align: top;\n",
              "    }\n",
              "\n",
              "    .dataframe thead th {\n",
              "        text-align: right;\n",
              "    }\n",
              "</style>\n",
              "<table border=\"1\" class=\"dataframe\">\n",
              "  <thead>\n",
              "    <tr style=\"text-align: right;\">\n",
              "      <th></th>\n",
              "      <th>likelihood</th>\n",
              "    </tr>\n",
              "  </thead>\n",
              "  <tbody>\n",
              "    <tr>\n",
              "      <th>shiho</th>\n",
              "      <td>0.852433</td>\n",
              "    </tr>\n",
              "    <tr>\n",
              "      <th>mizuki</th>\n",
              "      <td>0.068278</td>\n",
              "    </tr>\n",
              "    <tr>\n",
              "      <th>haruka</th>\n",
              "      <td>0.026378</td>\n",
              "    </tr>\n",
              "    <tr>\n",
              "      <th>matsuri</th>\n",
              "      <td>0.018831</td>\n",
              "    </tr>\n",
              "    <tr>\n",
              "      <th>yukiho</th>\n",
              "      <td>0.014233</td>\n",
              "    </tr>\n",
              "    <tr>\n",
              "      <th>karen</th>\n",
              "      <td>0.010937</td>\n",
              "    </tr>\n",
              "    <tr>\n",
              "      <th>takane</th>\n",
              "      <td>0.005386</td>\n",
              "    </tr>\n",
              "    <tr>\n",
              "      <th>chihaya</th>\n",
              "      <td>0.002023</td>\n",
              "    </tr>\n",
              "    <tr>\n",
              "      <th>emily</th>\n",
              "      <td>0.001502</td>\n",
              "    </tr>\n",
              "  </tbody>\n",
              "</table>\n",
              "</div>"
            ],
            "text/plain": [
              "         likelihood\n",
              "shiho      0.852433\n",
              "mizuki     0.068278\n",
              "haruka     0.026378\n",
              "matsuri    0.018831\n",
              "yukiho     0.014233\n",
              "karen      0.010937\n",
              "takane     0.005386\n",
              "chihaya    0.002023\n",
              "emily      0.001502"
            ]
          },
          "metadata": {
            "tags": []
          },
          "execution_count": 102
        }
      ]
    }
  ]
}