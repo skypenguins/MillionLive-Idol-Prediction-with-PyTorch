{
  "nbformat": 4,
  "nbformat_minor": 0,
  "metadata": {
    "colab": {
      "name": "millionlive_idol_prediction_pytorch_cuda",
      "version": "0.3.2",
      "provenance": [],
      "collapsed_sections": []
    },
    "kernelspec": {
      "name": "python3",
      "display_name": "Python 3"
    },
    "accelerator": "GPU"
  },
  "cells": [
    {
      "metadata": {
        "id": "UsJUnZCeDbby",
        "colab_type": "text"
      },
      "cell_type": "markdown",
      "source": [
        "# About Resources"
      ]
    },
    {
      "metadata": {
        "id": "o5rkeuD9Y8BR",
        "colab_type": "code",
        "outputId": "b5efae49-33d4-4900-902c-73286770314f",
        "colab": {
          "base_uri": "https://localhost:8080/",
          "height": 34
        }
      },
      "cell_type": "code",
      "source": [
        "!cat /proc/uptime | awk '{print $1 /60 \" mins (\" $1 \"sec)\"}'"
      ],
      "execution_count": 0,
      "outputs": [
        {
          "output_type": "stream",
          "text": [
            "1.0195 mins (61.17sec)\n"
          ],
          "name": "stdout"
        }
      ]
    },
    {
      "metadata": {
        "id": "S3Td9dg5Cr2x",
        "colab_type": "code",
        "outputId": "a80cfd5a-ac1c-48f2-960f-1c320da7c4d5",
        "colab": {
          "base_uri": "https://localhost:8080/",
          "height": 52
        }
      },
      "cell_type": "code",
      "source": [
        "!cat /etc/issue"
      ],
      "execution_count": 0,
      "outputs": [
        {
          "output_type": "stream",
          "text": [
            "Ubuntu 18.04.1 LTS \\n \\l\n",
            "\n"
          ],
          "name": "stdout"
        }
      ]
    },
    {
      "metadata": {
        "id": "qJBsIQfNC2J8",
        "colab_type": "code",
        "colab": {}
      },
      "cell_type": "code",
      "source": [
        "!df -h"
      ],
      "execution_count": 0,
      "outputs": []
    },
    {
      "metadata": {
        "id": "7RarurvYC-qY",
        "colab_type": "code",
        "colab": {}
      },
      "cell_type": "code",
      "source": [
        "!free -h"
      ],
      "execution_count": 0,
      "outputs": []
    },
    {
      "metadata": {
        "id": "lDy-JdGSDKY_",
        "colab_type": "code",
        "colab": {}
      },
      "cell_type": "code",
      "source": [
        "!cat /proc/cpuinfo"
      ],
      "execution_count": 0,
      "outputs": []
    },
    {
      "metadata": {
        "id": "Ie05IwFCDs1R",
        "colab_type": "code",
        "colab": {}
      },
      "cell_type": "code",
      "source": [
        "!nvidia-smi"
      ],
      "execution_count": 0,
      "outputs": []
    },
    {
      "metadata": {
        "id": "_rzZQcomrros",
        "colab_type": "text"
      },
      "cell_type": "markdown",
      "source": [
        "# Connecting to Google Drive"
      ]
    },
    {
      "metadata": {
        "id": "GhvNBg4VZD38",
        "colab_type": "code",
        "outputId": "32ca896b-4461-4b87-d703-3c5b45113a6a",
        "colab": {
          "base_uri": "https://localhost:8080/",
          "height": 34
        }
      },
      "cell_type": "code",
      "source": [
        "from google.colab import drive\n",
        "drive.mount('/content/drive')"
      ],
      "execution_count": 108,
      "outputs": [
        {
          "output_type": "stream",
          "text": [
            "Drive already mounted at /content/drive; to attempt to forcibly remount, call drive.mount(\"/content/drive\", force_remount=True).\n"
          ],
          "name": "stdout"
        }
      ]
    },
    {
      "metadata": {
        "id": "HNl7jOIY3SC0",
        "colab_type": "code",
        "outputId": "2f8c396b-99fb-40b6-bbcc-9cf9082a5c87",
        "colab": {
          "base_uri": "https://localhost:8080/",
          "height": 34
        }
      },
      "cell_type": "code",
      "source": [
        "%cd /content/drive/My Drive"
      ],
      "execution_count": 109,
      "outputs": [
        {
          "output_type": "stream",
          "text": [
            "/content/drive/My Drive\n"
          ],
          "name": "stdout"
        }
      ]
    },
    {
      "metadata": {
        "id": "tAk-EDelZ4AW",
        "colab_type": "code",
        "colab": {}
      },
      "cell_type": "code",
      "source": [
        "!ls"
      ],
      "execution_count": 0,
      "outputs": []
    },
    {
      "metadata": {
        "id": "AO_zWVzXZIqX",
        "colab_type": "code",
        "colab": {}
      },
      "cell_type": "code",
      "source": [
        "!ls millionlive_idol_prediction/"
      ],
      "execution_count": 0,
      "outputs": []
    },
    {
      "metadata": {
        "id": "GEvqs-xgZAra",
        "colab_type": "text"
      },
      "cell_type": "markdown",
      "source": [
        "# Settings"
      ]
    },
    {
      "metadata": {
        "id": "gFEjmSgVcYl8",
        "colab_type": "code",
        "outputId": "b62f7bd7-f589-4be9-a2d6-51a75ee869be",
        "colab": {
          "base_uri": "https://localhost:8080/",
          "height": 34
        }
      },
      "cell_type": "code",
      "source": [
        "!python --version"
      ],
      "execution_count": 110,
      "outputs": [
        {
          "output_type": "stream",
          "text": [
            "Python 3.6.7\n"
          ],
          "name": "stdout"
        }
      ]
    },
    {
      "metadata": {
        "id": "fGsn9g-0ZrBQ",
        "colab_type": "code",
        "colab": {}
      },
      "cell_type": "code",
      "source": [
        "%config inlineBackend.figure_format = 'retina'"
      ],
      "execution_count": 0,
      "outputs": []
    },
    {
      "metadata": {
        "id": "pD4KHAcir0Jd",
        "colab_type": "text"
      },
      "cell_type": "markdown",
      "source": [
        "# Training"
      ]
    },
    {
      "metadata": {
        "id": "IrL2XqyYZPH_",
        "colab_type": "code",
        "outputId": "9cb29a3d-52ed-490b-918d-dd0cea2374f1",
        "colab": {
          "base_uri": "https://localhost:8080/",
          "height": 34
        }
      },
      "cell_type": "code",
      "source": [
        "import torch\n",
        "import sys, os.path, glob, json\n",
        "from collections import OrderedDict\n",
        "import torch.nn as nn\n",
        "import torch.optim as optim\n",
        "from torch.utils.data import Dataset, DataLoader\n",
        "from sklearn.model_selection import train_test_split\n",
        "import pandas as pd\n",
        "import numpy as np\n",
        "import matplotlib as mpl\n",
        "import matplotlib.pyplot as plt\n",
        "import seaborn as sns\n",
        "from sklearn.metrics import classification_report\n",
        "from sklearn.metrics import confusion_matrix\n",
        "\n",
        "device = torch.device(\"cuda\" if torch.cuda.is_available() else \"cpu\")\n",
        "print(\"Device:\", device)\n",
        "\n",
        "root_dir = './millionlive_idol_prediction/'\n",
        "idol_script_file = root_dir + 'millionlive_idol_script_test.csv'\n",
        "tmp_dir = root_dir + 'tmp/'\n",
        "\n",
        "max_length = 90\n",
        "batch_size = 100\n",
        "\n",
        "class MillionLiveIdolScriptsDataset(Dataset):\n",
        "    \"\"\"\n",
        "    Script dataset of THE IDOLM@STER MILLION LIVE! idols.\n",
        "\n",
        "    Args:\n",
        "            csv_file (string): Path to the csv file which contains scripts per an idol.\n",
        "    \"\"\"\n",
        "    \n",
        "    def __init__(self, csv_file=idol_script_file, transform=None):\n",
        "        self.idol_data_frame = pd.read_csv(csv_file)\n",
        "        self.transform = transform\n",
        "\n",
        "        print(self.idol_data_frame)\n",
        "\n",
        "    def __len__(self):         \n",
        "        return len(self.idol_data_frame)\n",
        "        \n",
        "    def __getitem__(self, idx):\n",
        "        _id = self.idol_data_frame.iat[idx, 0] # Integer\n",
        "        _idol_id = self.idol_data_frame.iat[idx, 1]\n",
        "        _script = self.idol_data_frame.iat[idx, 2]\n",
        "\n",
        "        if self.transform:\n",
        "            _id, _idol_id, _script = self.transform(_id, _idol_id, _script)\n",
        "\n",
        "        return _id, _idol_id, _script\n",
        "\n",
        "class StringToTensor(object):\n",
        "    \"\"\"\n",
        "    Convert the id in sample to Tensors.\n",
        "    Then turn the script in sample into Unicode code points and convert it to Tensors.\n",
        "    \"\"\"\n",
        "\n",
        "    def __init__(self, max_length):\n",
        "        self.max_length = max_length\n",
        "    \n",
        "    def __string_to_codepoint(self, _str):\n",
        "        _encoded_str = [ord(_x) for _x in str(_str).strip()]\n",
        "        # Return an encoded string as an array like below.\n",
        "        # [12450, 12452, 12489, 12523, 12395, 12394, 12387, 12390, 12289, 31169, 12398, 22818, 12395, 33394, 12364, 12388, 12365, 12414, 12375, 12383, 12290, 20449, 12376, 12390, 27497, 12365, 32154, 12369, 12390, 12356, 12428, 12400, 12289, 12365, 12387, 12392, 12289, 12356, 12388, 12363, 8230, 12290, 12503, 12525, 12487, 12517, 12540, 12469, 12540, 12290, 31169, 12289, 32118, 23550, 12395, 23626, 12369, 12390, 12415, 12379, 12414, 12377, 12397, 65281]\n",
        "        _encoded_str = _encoded_str[:self.max_length]\n",
        "        _str_len = len(str(_str)) # String length\n",
        "        if _str_len < self.max_length: # If string length is less than a num of max_length, do zero padding\n",
        "            _encoded_str += ([0] * (self.max_length - _str_len))\n",
        "        \n",
        "        return _encoded_str\n",
        "\n",
        "    def __call__(self, _id, _idol_id, _script):\n",
        "        \n",
        "        _script = self.__string_to_codepoint(_script)\n",
        "\n",
        "        return _id, _idol_id, torch.tensor(_script, dtype=torch.long)\n",
        "    \n",
        "class CLCNN(nn.Module):\n",
        "    def __init__(self, embed_size=256, filter_sizes=(2, 3, 4, 5), filter_num=512, max_length=max_length):\n",
        "        super(CLCNN, self).__init__() # Call a method of super class.\n",
        "        self.filter_sizes = filter_sizes\n",
        "        self.filter_num = filter_num\n",
        "        \n",
        "        self.emb = nn.Embedding(0xffff, embed_size, padding_idx=0) # Get only kinds of three-byte characters of UTF-8\n",
        "        \n",
        "        # Convolution layer\n",
        "        self.conv0 = nn.Sequential(\n",
        "            nn.Conv2d(1, filter_num, (filter_sizes[0], embed_size)),\n",
        "            nn.ReLU(),\n",
        "            nn.MaxPool2d((max_length - filter_sizes[0] + 1, 1))\n",
        "        )\n",
        "        \n",
        "        self.conv1 = nn.Sequential(\n",
        "            nn.Conv2d(1, filter_num, (filter_sizes[1], embed_size)),\n",
        "            nn.ReLU(),\n",
        "            nn.MaxPool2d((max_length - filter_sizes[1] + 1, 1))\n",
        "        )\n",
        "        \n",
        "        self.conv2 = nn.Sequential(\n",
        "            nn.Conv2d(1, filter_num, (filter_sizes[2], embed_size)),\n",
        "            nn.ReLU(),\n",
        "            nn.MaxPool2d((max_length - filter_sizes[2] + 1, 1))\n",
        "        )\n",
        "        \n",
        "        self.conv3 = nn.Sequential(\n",
        "            nn.Conv2d(1, filter_num, (filter_sizes[3], embed_size)),\n",
        "            nn.ReLU(),\n",
        "            nn.MaxPool2d((max_length - filter_sizes[3] + 1, 1))\n",
        "        )\n",
        "        \n",
        "        # Fully connected layer\n",
        "        self.dense = nn.Sequential(\n",
        "            nn.Linear(filter_num * len(self.filter_sizes), 64),\n",
        "            nn.ReLU(),\n",
        "            nn.BatchNorm1d(64),\n",
        "            nn.Dropout(0.3),\n",
        "            nn.Linear(64, 9),\n",
        "            nn.Softmax(dim=1)\n",
        "        )\n",
        "    \n",
        "    def forward(self, x):\n",
        "        #print('input:', x.size())\n",
        "        out = self.emb(x)\n",
        "        #print('emb:', out.size())\n",
        "        emb_out = out.unsqueeze(1) # Insert a dimension\n",
        "        #print('emb_ex:', emb_out.size())\n",
        "\n",
        "        concat_out = torch.cat((self.conv0(emb_out), self.conv1(emb_out), self.conv2(emb_out), self.conv3(emb_out)), 1)\n",
        "        #print('concatnated:', concat_out.size())\n",
        "        out = concat_out.view(-1, self.filter_num * len(self.filter_sizes))\n",
        "        #print('flatten:', out.size())\n",
        "        out = self.dense(out)\n",
        "        #print('output:', out.size())\n",
        "        \n",
        "        return out\n",
        "        \n",
        "def train(model, optimizer, criterion, train_loader):\n",
        "    model.train()\n",
        "    running_loss = 0\n",
        "    for batch_idx, (labels, idol_ids, scripts)  in enumerate(train_loader):\n",
        "        labels = labels.to(device)\n",
        "        scripts = scripts.to(device)\n",
        "\n",
        "        optimizer.zero_grad()\n",
        "        outputs = model(scripts)\n",
        "\n",
        "        loss = criterion(outputs, labels)\n",
        "        running_loss += loss.item()\n",
        "\n",
        "        loss.backward()\n",
        "        optimizer.step()\n",
        "    \n",
        "    train_loss = running_loss / len(train_loader)\n",
        "\n",
        "    return train_loss\n",
        "\n",
        "def valid(model, optimizer, criterion, test_loader):\n",
        "    model.eval()\n",
        "    running_loss = 0\n",
        "    correct = 0\n",
        "    total = 0\n",
        "\n",
        "    with torch.no_grad():\n",
        "        for batch_idx, (labels, idol_ids, scripts)  in enumerate(test_loader):\n",
        "            labels = labels.to(device)\n",
        "            scripts = scripts.to(device)\n",
        "\n",
        "            outputs = model(scripts)\n",
        "\n",
        "            loss = criterion(outputs, labels)\n",
        "            running_loss += loss.item()\n",
        "\n",
        "            predicted = outputs.max(1, keepdim=True)[1] # Get the index of the max log-probability\n",
        "            correct += predicted.eq(labels.view_as(predicted)).sum().item()\n",
        "            total += labels.size(0) # Dim 0 is Batch size\n",
        "    \n",
        "    val_loss = running_loss / len(test_loader)\n",
        "    val_acc = correct / total\n",
        "\n",
        "    return val_loss, val_acc\n",
        "\n",
        "def fit(model, optimizer, criterion, train_loader, test_loader, learning_rate, num_epochs):\n",
        "    loss_list = []\n",
        "    val_loss_list = []\n",
        "    val_acc_list = []\n",
        "    for epoch in range(num_epochs):\n",
        "        loss = train(model, optimizer, criterion, train_loader)\n",
        "        val_loss, val_acc = valid(model, optimizer, criterion, test_loader)\n",
        "\n",
        "        print('epoch %d, loss: %.4f val_loss: %.4f val_acc: %.4f' % (epoch, loss, val_loss, val_acc))\n",
        "\n",
        "        # Logging\n",
        "        loss_list.append(loss)\n",
        "        val_loss_list.append(val_loss)\n",
        "        val_acc_list.append(val_acc)\n",
        "    \n",
        "    print('Finished training.')\n",
        "    \n",
        "    # Save the trained model\n",
        "    #np.save('loss_list.npy', np.array(loss_list))\n",
        "    #np.save('val_loss_list.npy', np.array(val_loss_list))\n",
        "    #np.save('val_acc_list.npy', np.array(val_acc_list))\n",
        "    torch.save(model.state_dict(), root_dir + 'clcnn.pkl')\n",
        "    \n",
        "    return loss_list, val_loss_list, val_acc_list\n",
        "\n",
        "def plot_history(loss_list, val_loss_list, val_acc_list):\n",
        "    # Plot loss curve\n",
        "    display('Model Loss')\n",
        "    plt.plot(loss_list,\".-\",label=\"loss\",)\n",
        "    plt.plot(val_loss_list,\".-\",label=\"val_loss\")\n",
        "    plt.title('model loss')\n",
        "    plt.xlabel('epoch')\n",
        "    plt.ylabel('loss')\n",
        "    plt.legend()\n",
        "    plt.show()\n",
        "\n",
        "    # Plot accurancy curve\n",
        "    display('Model Acc')\n",
        "    #plt.plot(history.history['acc'],\".-\",label=\"accuracy\")\n",
        "    plt.plot(val_acc_list,\".-\",label=\"val_acc\")\n",
        "    plt.title('model accuracy')\n",
        "    plt.xlabel('epoch')\n",
        "    plt.ylabel('accuracy')\n",
        "    plt.legend()\n",
        "    plt.show()\n",
        "\n",
        "def result_report(model, test_loader):\n",
        "    global idol_dict\n",
        "    # Classification Report\n",
        "    y_true = []\n",
        "    y_pred = []\n",
        "    for i, (y, z, x) in enumerate(test_loader):\n",
        "        y = y.to(device)\n",
        "        x = x.to(device)\n",
        "\n",
        "        with torch.no_grad():\n",
        "            output = model(x)\n",
        "        y_pred += [idol_dict[int(l.argmax())] for l in output]\n",
        "        y_true += [idol_dict[int(l)] for l in y]\n",
        "\n",
        "    print(classification_report(y_true, y_pred))\n",
        "    \n",
        "    # Confusion Matrix\n",
        "    plt.figure()\n",
        "    fig, ax = plt.subplots(figsize=(9, 6)) \n",
        "    labels = [idol_dict[i] for i in range(len(idol_dict))]\n",
        "    cmx_data = confusion_matrix(y_true, y_pred, labels=labels)\n",
        "    cmx_df = pd.DataFrame(cmx_data, index=labels, columns=labels)\n",
        "    sns.heatmap(cmx_df, square=True, annot=True, cmap='Blues')\n",
        "    plt.savefig(root_dir + 'cmx.png')"
      ],
      "execution_count": 112,
      "outputs": [
        {
          "output_type": "stream",
          "text": [
            "Device: cuda\n"
          ],
          "name": "stdout"
        }
      ]
    },
    {
      "metadata": {
        "id": "mYwF6yOVHL1u",
        "colab_type": "code",
        "outputId": "2c2ce72e-41e5-45ab-9570-0834c952608f",
        "colab": {
          "base_uri": "https://localhost:8080/",
          "height": 2553
        }
      },
      "cell_type": "code",
      "source": [
        "# Million Live Idol Scripts Dataset (Scripts and Labels)\n",
        "transformed_script_dataset = MillionLiveIdolScriptsDataset(transform=StringToTensor(max_length))\n",
        "# Split dataset\n",
        "train_data, test_data = train_test_split(transformed_script_dataset, test_size=0.25)\n",
        "# Dataset Loader\n",
        "train_loader = DataLoader(train_data, batch_size=batch_size, shuffle=True, num_workers=10)\n",
        "test_loader = DataLoader(test_data, batch_size=batch_size, shuffle=False, num_workers=10)\n",
        "\n",
        "\"\"\"\n",
        "for i_batch, (id, idol_id, script)  in enumerate(train_loader):\n",
        "    print('index:', i_batch)\n",
        "    print('id:', id.size())\n",
        "    print('idol_id:', idol_id)\n",
        "    print('script:', script.size())\n",
        "\"\"\"\n",
        "learning_rate = 0.001\n",
        "num_epochs = 50\n",
        "\n",
        "# Create model\n",
        "model = CLCNN(max_length=max_length).to(device)\n",
        "optimizer = optim.Adam(model.parameters(), lr=learning_rate)\n",
        "criterion = nn.CrossEntropyLoss()\n",
        "print(model)\n",
        "\n",
        "# Generate an idol dictionary\n",
        "idol_df = transformed_script_dataset.idol_data_frame.set_index('id')\n",
        "idol_dict = idol_df['idol_id'].drop_duplicates().to_dict()\n",
        "\n",
        "# Fit\n",
        "loss_list, val_loss_list, val_acc_list = fit(model, optimizer, criterion, train_loader, test_loader, learning_rate, num_epochs)"
      ],
      "execution_count": 129,
      "outputs": [
        {
          "output_type": "stream",
          "text": [
            "      id  idol_id                                             script\n",
            "0      0   haruka                 トップアイドル目指して、歌も踊りも頑張ります！よろしくお願いします♪\n",
            "1      0   haruka                               お仕事、頑張るぞー！なーんて、えへへ…。\n",
            "2      0   haruka                                   張り切っていっちゃいましょうっ！\n",
            "3      0   haruka                      あの、クッキー焼いてきたんですけど、食べてもらえますか…？\n",
            "4      0   haruka                              プロデューサーさん、いつもお疲れさまです♪\n",
            "5      0   haruka                          いたたた…。うう、事務所の前で転んじゃいました…。\n",
            "6      0   haruka                             えへへっ。私、すっごくワクワクしてきました！\n",
            "7      0   haruka                             よろしくお願いします、プロデューサーさんっ！\n",
            "8      0   haruka            ふわあぁ～…っ！あっ、す、すみません！恥ずかしいところ、見られちゃいました…。\n",
            "9      0   haruka  私を応援してくれてるファンの人って、どのぐらいいるのかなぁ…。プロデューサーさん、気になりま...\n",
            "10     0   haruka      昨日、劇場のみんなとカラオケに行ってきたんです！プロデューサーさんも来ればよかったのに～。\n",
            "11     0   haruka                       プロデューサーさんとなら私、どこまでも頑張れそうですっ！\n",
            "12     0   haruka  プロデューサーさん、ケーキとクッキーだったらどっちが好きですか？…あ、えっとその、今後の参考...\n",
            "13     0   haruka   プロデューサーさん、私、まだまだ満足したくないですっ！もっともっと、たくさん歌を歌いたいから…！\n",
            "14     0   haruka           あの、プロデューサーさんの好きなお料理って何ですか？…練習しとこうかな、なんて♪\n",
            "15     0   haruka           プロデューサーさん、あんまりムリはしないで下さいね？やっぱり、健康が第一ですよ！\n",
            "16     0   haruka    アイドルをお仕事にできるなんて、私って本当に幸せです♪おまけに担当がプロデューサーさんですし！\n",
            "17     0   haruka    もっといろんなイベントで、ファンのみんなやプロデューサーさんと一緒に楽しんでいけたらいいな…♪\n",
            "18     0   haruka       私達も劇場も、成長していくんですよね。これからどんなふうに変わるか、とっても楽しみです♪\n",
            "19     0   haruka  いつも私の相談にのってもらってばかりですよね。よし、今度は私が相談のりますよ、プロデュ－サ－さん♪\n",
            "20     0   haruka       劇場のみんなと、プロデュ－サ－さんと一緒に…。ずっとこういう日が続けばいいなぁ、なんて♪\n",
            "21     0   haruka       あっ！あんなところに、手作りのお菓子屋さんが！？時間があったらゼッタイ寄ったのになぁ…。\n",
            "22     0   haruka                                えへへっ♪歌のお仕事って、大好きです！\n",
            "23     0   haruka                            こんなステキな曲が歌えるなんて…夢みたいです！\n",
            "24     0   haruka                          わぁ…かわいい衣装！着るのが楽しみです！えへへっ♪\n",
            "25     0   haruka                                   わわっ！！ご、ごめんなさいっ！！\n",
            "26     0   haruka                            ファンのみんなにも楽しんでもらえてるのかな…？\n",
            "27     0   haruka                              プロデューサーさん、のどかわいてませんか？\n",
            "28     0   haruka                           元気がよくてよろしい、ってほめられちゃいました！\n",
            "29     0   haruka                               失敗しちゃいました。うう…すみません…。\n",
            "...   ..      ...                                                ...\n",
            "1505   8  matsuri  お外は寒くて、まつりはぶるぶるなのです～。;焼きマシュマロココアを飲めば、姫はぱわほー！にな...\n",
            "1506   8  matsuri  プロデューサーさんと過ごすこの時間があれば、姫は他に何もいらないのですよ。…でも、ありがとう...\n",
            "1507   8  matsuri  ほ？プロデューサーさんも、まつりの達人姿が見たいのですね。…画面？見なくても大丈夫です。リズ...\n",
            "1508   8  matsuri  …ほ？心外なのですよ。まつりはマシュマロより、焼きマシュマロが大好きなのですよ。…ほ？ある？...\n",
            "1509   8  matsuri  まつりはマシュマロがだーい好きなのですよ？テレビをみているみんなも、好き嫌いなんてしちゃダメ...\n",
            "1510   8  matsuri                                      まつりとウェディングドレス\n",
            "1511   8  matsuri  ほ？…まだメイク中なのに、まつりに会いたくなってしまったのです？でももう少しだけ、いい子で待...\n",
            "1512   8  matsuri                                      まつりとウェディングドレス\n",
            "1513   8  matsuri  プロデューサーさん、今日は本当にありがとうなのです。こんなに綺麗な衣装を用意してくれて。これ...\n",
            "1514   8  matsuri  はいほー！！まつり姫が、だいなみっくに登場なのです！今日はまつり達が、みんなをメロメロにして...\n",
            "1515   8  matsuri  はふっ、はふっ…ふかふかで熱々の中華まん、とってもおいしいのです！プロデューサーさん、次は姫...\n",
            "1516   8  matsuri                       あなたに出会えて、心からうれしい…私も、同じ気持ちだよ。\n",
            "1517   8  matsuri  ふわふわぷかぷか、綺麗なしゃぼん玉がステージにいっぱいなのです。みんなまつりのしゃぼん玉で、...\n",
            "1518   8  matsuri  全国のみんなと会えて、まつりはとっても嬉しいのです。今夜は姫のふわふわな魔法で、とびきり･は...\n",
            "1519   8  matsuri  全国のみんなと会えて、まつりはとっても嬉しいのです。今夜は姫のふわふわな魔法で、とびきり･は...\n",
            "1520   8  matsuri                                         羽ゴコロ、乙女ゴコロ\n",
            "1521   8  matsuri  相手チームさん、やるのです。千鶴ちゃん、ここは作戦通り…一気に仕掛けましょう。姫達の麗しい連...\n",
            "1522   8  matsuri                                         羽ゴコロ、乙女ゴコロ\n",
            "1523   8  matsuri  終わりは寂しいけど、きっと次があるのです。さぁみんな、まつりのとびきり・わんだほー！な閉会式...\n",
            "1524   8  matsuri  姫特製の、とびきり・きゅーと！な羽子板で今年最初のびくとりー！をつかんだのです。姫の完璧なシ...\n",
            "1525   8  matsuri  ほ？お正月から、みんな姫に会いに来てくれたのです？お礼に姫の歌で、みんなをはっぴー！でぶらぼ...\n",
            "1526   8  matsuri  ほ？みんな、とってもキラキラしているのです。姫も負けてはいられません。ファンのみんなにびゅー...\n",
            "1527   8  matsuri  ほ？みんな、とってもキラキラしているのです。姫も負けてはいられません。ファンのみんなにびゅー...\n",
            "1528   8  matsuri  麗花ちゃん、運転お疲れさま。とっても楽しいドライブだったのですよ。ふふっ…こうしてみんなと海...\n",
            "1529   8  matsuri  しーっ…みんな、起こしちゃだめなのです。音を立てないように、そーっと歩くのですよ？…歩ちゃん...\n",
            "1530   8  matsuri  はいほー！姫の歌で、お菓子みたいに甘くて、とびきり･わんだほーな1日にするのです♪みんな、魔...\n",
            "1531   8  matsuri  ほ？…このいちごさんが、食べたいのですか？そんなにジロジロ見られたら、いちごさん、まつりのお...\n",
            "1532   8  matsuri  みんな、まつりのお城にようこそなのです！わんだほー！でびゅーてぃほー！なステージをお届けする...\n",
            "1533   8  matsuri  秋葉原、わんだほーな街で、姫、大満足です！気になっていた漫画も見つけられて…ほ？あれは、この...\n",
            "1534   8  matsuri  お祭りの夜は、女の子の晴れ舞台…甘いお菓子も花火も、貴方とだから特別なんだよ。…さあ、みんな...\n",
            "\n",
            "[1535 rows x 3 columns]\n",
            "CLCNN(\n",
            "  (emb): Embedding(65535, 256, padding_idx=0)\n",
            "  (conv0): Sequential(\n",
            "    (0): Conv2d(1, 512, kernel_size=(2, 256), stride=(1, 1))\n",
            "    (1): ReLU()\n",
            "    (2): MaxPool2d(kernel_size=(89, 1), stride=(89, 1), padding=0, dilation=1, ceil_mode=False)\n",
            "  )\n",
            "  (conv1): Sequential(\n",
            "    (0): Conv2d(1, 512, kernel_size=(3, 256), stride=(1, 1))\n",
            "    (1): ReLU()\n",
            "    (2): MaxPool2d(kernel_size=(88, 1), stride=(88, 1), padding=0, dilation=1, ceil_mode=False)\n",
            "  )\n",
            "  (conv2): Sequential(\n",
            "    (0): Conv2d(1, 512, kernel_size=(4, 256), stride=(1, 1))\n",
            "    (1): ReLU()\n",
            "    (2): MaxPool2d(kernel_size=(87, 1), stride=(87, 1), padding=0, dilation=1, ceil_mode=False)\n",
            "  )\n",
            "  (conv3): Sequential(\n",
            "    (0): Conv2d(1, 512, kernel_size=(5, 256), stride=(1, 1))\n",
            "    (1): ReLU()\n",
            "    (2): MaxPool2d(kernel_size=(86, 1), stride=(86, 1), padding=0, dilation=1, ceil_mode=False)\n",
            "  )\n",
            "  (dense): Sequential(\n",
            "    (0): Linear(in_features=2048, out_features=64, bias=True)\n",
            "    (1): ReLU()\n",
            "    (2): BatchNorm1d(64, eps=1e-05, momentum=0.1, affine=True, track_running_stats=True)\n",
            "    (3): Dropout(p=0.3)\n",
            "    (4): Linear(in_features=64, out_features=9, bias=True)\n",
            "    (5): Softmax()\n",
            "  )\n",
            ")\n",
            "epoch 0, loss: 2.1663 val_loss: 2.1405 val_acc: 0.1719\n",
            "epoch 1, loss: 2.1113 val_loss: 2.0905 val_acc: 0.4479\n",
            "epoch 2, loss: 2.0605 val_loss: 2.0745 val_acc: 0.4427\n",
            "epoch 3, loss: 1.9888 val_loss: 2.0412 val_acc: 0.4870\n",
            "epoch 4, loss: 1.9275 val_loss: 2.0128 val_acc: 0.5651\n",
            "epoch 5, loss: 1.8543 val_loss: 1.9696 val_acc: 0.6328\n",
            "epoch 6, loss: 1.7846 val_loss: 1.9441 val_acc: 0.6094\n",
            "epoch 7, loss: 1.7161 val_loss: 1.9192 val_acc: 0.6432\n",
            "epoch 8, loss: 1.6499 val_loss: 1.8768 val_acc: 0.6771\n",
            "epoch 9, loss: 1.6018 val_loss: 1.8641 val_acc: 0.7370\n",
            "epoch 10, loss: 1.5549 val_loss: 1.8636 val_acc: 0.6771\n",
            "epoch 11, loss: 1.5189 val_loss: 1.8233 val_acc: 0.7083\n",
            "epoch 12, loss: 1.4850 val_loss: 1.7923 val_acc: 0.7578\n",
            "epoch 13, loss: 1.4659 val_loss: 1.7986 val_acc: 0.6979\n",
            "epoch 14, loss: 1.4496 val_loss: 1.7815 val_acc: 0.7370\n",
            "epoch 15, loss: 1.4400 val_loss: 1.7878 val_acc: 0.7031\n",
            "epoch 16, loss: 1.4319 val_loss: 1.7535 val_acc: 0.7422\n",
            "epoch 17, loss: 1.4231 val_loss: 1.7678 val_acc: 0.7057\n",
            "epoch 18, loss: 1.4175 val_loss: 1.7529 val_acc: 0.7266\n",
            "epoch 19, loss: 1.4128 val_loss: 1.7423 val_acc: 0.7500\n",
            "epoch 20, loss: 1.4089 val_loss: 1.7546 val_acc: 0.7500\n",
            "epoch 21, loss: 1.4067 val_loss: 1.7245 val_acc: 0.7630\n",
            "epoch 22, loss: 1.4050 val_loss: 1.7177 val_acc: 0.7839\n",
            "epoch 23, loss: 1.3998 val_loss: 1.7220 val_acc: 0.7370\n",
            "epoch 24, loss: 1.4007 val_loss: 1.7215 val_acc: 0.7422\n",
            "epoch 25, loss: 1.3969 val_loss: 1.7147 val_acc: 0.7578\n",
            "epoch 26, loss: 1.3949 val_loss: 1.7004 val_acc: 0.7786\n",
            "epoch 27, loss: 1.3936 val_loss: 1.7084 val_acc: 0.7448\n",
            "epoch 28, loss: 1.3926 val_loss: 1.7028 val_acc: 0.7526\n",
            "epoch 29, loss: 1.3908 val_loss: 1.6938 val_acc: 0.7656\n",
            "epoch 30, loss: 1.3904 val_loss: 1.6911 val_acc: 0.7760\n",
            "epoch 31, loss: 1.3895 val_loss: 1.6924 val_acc: 0.7630\n",
            "epoch 32, loss: 1.3884 val_loss: 1.7034 val_acc: 0.7500\n",
            "epoch 33, loss: 1.3893 val_loss: 1.7114 val_acc: 0.7266\n",
            "epoch 34, loss: 1.3877 val_loss: 1.7106 val_acc: 0.7370\n",
            "epoch 35, loss: 1.3870 val_loss: 1.6952 val_acc: 0.7500\n",
            "epoch 36, loss: 1.3863 val_loss: 1.6893 val_acc: 0.7578\n",
            "epoch 37, loss: 1.3857 val_loss: 1.6793 val_acc: 0.7656\n",
            "epoch 38, loss: 1.3856 val_loss: 1.6902 val_acc: 0.7682\n",
            "epoch 39, loss: 1.3865 val_loss: 1.6808 val_acc: 0.7500\n",
            "epoch 40, loss: 1.3852 val_loss: 1.6861 val_acc: 0.7552\n",
            "epoch 41, loss: 1.3844 val_loss: 1.6760 val_acc: 0.7682\n",
            "epoch 42, loss: 1.3836 val_loss: 1.6889 val_acc: 0.7396\n",
            "epoch 43, loss: 1.3828 val_loss: 1.6707 val_acc: 0.7630\n",
            "epoch 44, loss: 1.3831 val_loss: 1.6685 val_acc: 0.7760\n",
            "epoch 45, loss: 1.3820 val_loss: 1.6691 val_acc: 0.7786\n",
            "epoch 46, loss: 1.3825 val_loss: 1.6741 val_acc: 0.7630\n",
            "epoch 47, loss: 1.3827 val_loss: 1.6692 val_acc: 0.7604\n",
            "epoch 48, loss: 1.3814 val_loss: 1.6686 val_acc: 0.7734\n",
            "epoch 49, loss: 1.3816 val_loss: 1.6684 val_acc: 0.7578\n",
            "Finished training.\n"
          ],
          "name": "stdout"
        }
      ]
    },
    {
      "metadata": {
        "id": "V_tYFThFGu_C",
        "colab_type": "text"
      },
      "cell_type": "markdown",
      "source": [
        "## Model Loss and Model Accurancy"
      ]
    },
    {
      "metadata": {
        "id": "twwxuKX0G4F2",
        "colab_type": "code",
        "outputId": "0f077c63-a5bf-4186-fcf1-5e2b4189697f",
        "colab": {
          "base_uri": "https://localhost:8080/",
          "height": 770
        }
      },
      "cell_type": "code",
      "source": [
        "plot_history(loss_list, val_loss_list, val_acc_list)"
      ],
      "execution_count": 130,
      "outputs": [
        {
          "output_type": "display_data",
          "data": {
            "text/plain": [
              "'Model Loss'"
            ]
          },
          "metadata": {
            "tags": []
          }
        },
        {
          "output_type": "display_data",
          "data": {
            "image/png": "[encoded data removed]",
            "text/plain": [
              "<Figure size 576x396 with 1 Axes>"
            ]
          },
          "metadata": {
            "tags": []
          }
        },
        {
          "output_type": "display_data",
          "data": {
            "text/plain": [
              "'Model Acc'"
            ]
          },
          "metadata": {
            "tags": []
          }
        },
        {
          "output_type": "display_data",
          "data": {
            "image/png": "[encoded data removed]",
            "text/plain": [
              "<Figure size 576x396 with 1 Axes>"
            ]
          },
          "metadata": {
            "tags": []
          }
        }
      ]
    },
    {
      "metadata": {
        "id": "x7jj-L7SG5pr",
        "colab_type": "text"
      },
      "cell_type": "markdown",
      "source": [
        "## Reports"
      ]
    },
    {
      "metadata": {
        "id": "teaECcW9G5b7",
        "colab_type": "code",
        "outputId": "7ab03280-e7b2-4c07-8e5b-db5ef5cf21a6",
        "colab": {
          "base_uri": "https://localhost:8080/",
          "height": 673
        }
      },
      "cell_type": "code",
      "source": [
        "result_report(model, test_loader)"
      ],
      "execution_count": 131,
      "outputs": [
        {
          "output_type": "stream",
          "text": [
            "              precision    recall  f1-score   support\n",
            "\n",
            "     chihaya       0.61      0.46      0.53        41\n",
            "       emily       0.94      0.63      0.75        46\n",
            "      haruka       0.72      0.72      0.72        32\n",
            "       karen       0.60      0.95      0.74        43\n",
            "     matsuri       0.94      0.98      0.96        51\n",
            "      mizuki       0.95      0.80      0.87        50\n",
            "       shiho       0.61      0.82      0.70        45\n",
            "      takane       0.68      0.76      0.72        34\n",
            "      yukiho       0.93      0.62      0.74        42\n",
            "\n",
            "   micro avg       0.76      0.76      0.76       384\n",
            "   macro avg       0.78      0.75      0.75       384\n",
            "weighted avg       0.79      0.76      0.76       384\n",
            "\n"
          ],
          "name": "stdout"
        },
        {
          "output_type": "display_data",
          "data": {
            "text/plain": [
              "<Figure size 576x396 with 0 Axes>"
            ]
          },
          "metadata": {
            "tags": []
          }
        },
        {
          "output_type": "display_data",
          "data": {
            "image/png": "[encoded data removed]",
            "text/plain": [
              "<Figure size 648x432 with 2 Axes>"
            ]
          },
          "metadata": {
            "tags": []
          }
        }
      ]
    },
    {
      "metadata": {
        "id": "kfVAWbrUrX8x",
        "colab_type": "text"
      },
      "cell_type": "markdown",
      "source": [
        "# Prediction"
      ]
    },
    {
      "metadata": {
        "id": "sg44cWKIoiKA",
        "colab_type": "code",
        "colab": {}
      },
      "cell_type": "code",
      "source": [
        "def string_to_codepoint(_str, max_length=max_length):\n",
        "    _encoded_str = [ord(_x) for _x in str(_str).strip()]\n",
        "    _encoded_str = _encoded_str[:max_length]\n",
        "    _str_len = len(str(_str)) # String length\n",
        "    if _str_len < max_length: # If string length is less than a num of max_length, do zero padding\n",
        "        _encoded_str += ([0] * (max_length - _str_len))\n",
        "    \n",
        "    return _encoded_str"
      ],
      "execution_count": 0,
      "outputs": []
    },
    {
      "metadata": {
        "id": "XONpG0gWrmbA",
        "colab_type": "code",
        "colab": {}
      },
      "cell_type": "code",
      "source": [
        "def predict(model, input_str):\n",
        "    model = model.eval()\n",
        "    with torch.no_grad():\n",
        "        output = model(input_str)\n",
        "    \n",
        "    return output"
      ],
      "execution_count": 0,
      "outputs": []
    },
    {
      "metadata": {
        "id": "R7_EgclOqwZg",
        "colab_type": "code",
        "outputId": "5e296643-d751-4d8d-ae59-5c0ddb4eb476",
        "colab": {
          "base_uri": "https://localhost:8080/",
          "height": 349
        }
      },
      "cell_type": "code",
      "source": [
        "encoded_str = torch.LongTensor(string_to_codepoint(input('Type a script:'))).unsqueeze(0).to(device)\n",
        "#print(encoded_str.size())\n",
        "result = predict(model, encoded_str)\n",
        "res_df = pd.DataFrame(result.cpu().numpy())\n",
        "res_df.rename(columns=idol_dict, index={0: 'likelihood'}, inplace=True)\n",
        "res_df = res_df.T.sort_values('likelihood', ascending=False)\n",
        "res_df"
      ],
      "execution_count": 137,
      "outputs": [
        {
          "output_type": "stream",
          "text": [
            "Type a script:今からでも泳げそうなほど暑いです。さっきのライブの熱、残っているみたい……。○○Pも同じ気持ちですか？ ……ふふっ。いえ、何でも。\n"
          ],
          "name": "stdout"
        },
        {
          "output_type": "execute_result",
          "data": {
            "text/html": [
              "<div>\n",
              "<style scoped>\n",
              "    .dataframe tbody tr th:only-of-type {\n",
              "        vertical-align: middle;\n",
              "    }\n",
              "\n",
              "    .dataframe tbody tr th {\n",
              "        vertical-align: top;\n",
              "    }\n",
              "\n",
              "    .dataframe thead th {\n",
              "        text-align: right;\n",
              "    }\n",
              "</style>\n",
              "<table border=\"1\" class=\"dataframe\">\n",
              "  <thead>\n",
              "    <tr style=\"text-align: right;\">\n",
              "      <th></th>\n",
              "      <th>likelihood</th>\n",
              "    </tr>\n",
              "  </thead>\n",
              "  <tbody>\n",
              "    <tr>\n",
              "      <th>chihaya</th>\n",
              "      <td>0.952807</td>\n",
              "    </tr>\n",
              "    <tr>\n",
              "      <th>shiho</th>\n",
              "      <td>0.032718</td>\n",
              "    </tr>\n",
              "    <tr>\n",
              "      <th>karen</th>\n",
              "      <td>0.004026</td>\n",
              "    </tr>\n",
              "    <tr>\n",
              "      <th>emily</th>\n",
              "      <td>0.003574</td>\n",
              "    </tr>\n",
              "    <tr>\n",
              "      <th>mizuki</th>\n",
              "      <td>0.002830</td>\n",
              "    </tr>\n",
              "    <tr>\n",
              "      <th>matsuri</th>\n",
              "      <td>0.001387</td>\n",
              "    </tr>\n",
              "    <tr>\n",
              "      <th>takane</th>\n",
              "      <td>0.001339</td>\n",
              "    </tr>\n",
              "    <tr>\n",
              "      <th>haruka</th>\n",
              "      <td>0.001010</td>\n",
              "    </tr>\n",
              "    <tr>\n",
              "      <th>yukiho</th>\n",
              "      <td>0.000310</td>\n",
              "    </tr>\n",
              "  </tbody>\n",
              "</table>\n",
              "</div>"
            ],
            "text/plain": [
              "         likelihood\n",
              "chihaya    0.952807\n",
              "shiho      0.032718\n",
              "karen      0.004026\n",
              "emily      0.003574\n",
              "mizuki     0.002830\n",
              "matsuri    0.001387\n",
              "takane     0.001339\n",
              "haruka     0.001010\n",
              "yukiho     0.000310"
            ]
          },
          "metadata": {
            "tags": []
          },
          "execution_count": 137
        }
      ]
    }
  ]
}