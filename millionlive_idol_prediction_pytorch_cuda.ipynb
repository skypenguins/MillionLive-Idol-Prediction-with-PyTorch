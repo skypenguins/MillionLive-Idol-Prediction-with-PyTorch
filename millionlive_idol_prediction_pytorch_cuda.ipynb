{
  "nbformat": 4,
  "nbformat_minor": 0,
  "metadata": {
    "colab": {
      "name": "millionlive_idol_prediction_pytorch_cuda",
      "version": "0.3.2",
      "provenance": [],
      "collapsed_sections": []
    },
    "kernelspec": {
      "name": "python3",
      "display_name": "Python 3"
    },
    "accelerator": "GPU"
  },
  "cells": [
    {
      "metadata": {
        "id": "UsJUnZCeDbby",
        "colab_type": "text"
      },
      "cell_type": "markdown",
      "source": [
        "# About Resources"
      ]
    },
    {
      "metadata": {
        "id": "o5rkeuD9Y8BR",
        "colab_type": "code",
        "outputId": "333b9292-4a4c-4afd-f571-83af57b06c87",
        "colab": {
          "base_uri": "https://localhost:8080/",
          "height": 34
        }
      },
      "cell_type": "code",
      "source": [
        "!cat /proc/uptime | awk '{print $1 /60 \" mins (\" $1 \"sec)\"}'"
      ],
      "execution_count": 1,
      "outputs": [
        {
          "output_type": "stream",
          "text": [
            "204.137 mins (12248.19sec)\n"
          ],
          "name": "stdout"
        }
      ]
    },
    {
      "metadata": {
        "id": "S3Td9dg5Cr2x",
        "colab_type": "code",
        "outputId": "ef1095e0-105d-4f45-deb0-63ba774a32c9",
        "colab": {
          "base_uri": "https://localhost:8080/",
          "height": 52
        }
      },
      "cell_type": "code",
      "source": [
        "!cat /etc/issue"
      ],
      "execution_count": 2,
      "outputs": [
        {
          "output_type": "stream",
          "text": [
            "Ubuntu 18.04.1 LTS \\n \\l\n",
            "\n"
          ],
          "name": "stdout"
        }
      ]
    },
    {
      "metadata": {
        "id": "qJBsIQfNC2J8",
        "colab_type": "code",
        "colab": {}
      },
      "cell_type": "code",
      "source": [
        "!df -h"
      ],
      "execution_count": 0,
      "outputs": []
    },
    {
      "metadata": {
        "id": "7RarurvYC-qY",
        "colab_type": "code",
        "colab": {}
      },
      "cell_type": "code",
      "source": [
        "!free -h"
      ],
      "execution_count": 0,
      "outputs": []
    },
    {
      "metadata": {
        "id": "lDy-JdGSDKY_",
        "colab_type": "code",
        "colab": {}
      },
      "cell_type": "code",
      "source": [
        "!cat /proc/cpuinfo"
      ],
      "execution_count": 0,
      "outputs": []
    },
    {
      "metadata": {
        "id": "Ie05IwFCDs1R",
        "colab_type": "code",
        "colab": {}
      },
      "cell_type": "code",
      "source": [
        "!nvidia-smi"
      ],
      "execution_count": 0,
      "outputs": []
    },
    {
      "metadata": {
        "id": "_rzZQcomrros",
        "colab_type": "text"
      },
      "cell_type": "markdown",
      "source": [
        "# Connecting to Google Drive"
      ]
    },
    {
      "metadata": {
        "id": "GhvNBg4VZD38",
        "colab_type": "code",
        "outputId": "488806d7-84af-49db-b07a-b32c8e7b07d3",
        "colab": {
          "base_uri": "https://localhost:8080/",
          "height": 34
        }
      },
      "cell_type": "code",
      "source": [
        "from google.colab import drive\n",
        "drive.mount('/content/drive')"
      ],
      "execution_count": 3,
      "outputs": [
        {
          "output_type": "stream",
          "text": [
            "Drive already mounted at /content/drive; to attempt to forcibly remount, call drive.mount(\"/content/drive\", force_remount=True).\n"
          ],
          "name": "stdout"
        }
      ]
    },
    {
      "metadata": {
        "id": "HNl7jOIY3SC0",
        "colab_type": "code",
        "outputId": "b9398e70-2d2a-4cdc-a29f-5003e723c4dc",
        "colab": {
          "base_uri": "https://localhost:8080/",
          "height": 34
        }
      },
      "cell_type": "code",
      "source": [
        "%cd /content/drive/My Drive"
      ],
      "execution_count": 4,
      "outputs": [
        {
          "output_type": "stream",
          "text": [
            "/content/drive/My Drive\n"
          ],
          "name": "stdout"
        }
      ]
    },
    {
      "metadata": {
        "id": "tAk-EDelZ4AW",
        "colab_type": "code",
        "colab": {}
      },
      "cell_type": "code",
      "source": [
        "!ls"
      ],
      "execution_count": 0,
      "outputs": []
    },
    {
      "metadata": {
        "id": "AO_zWVzXZIqX",
        "colab_type": "code",
        "colab": {}
      },
      "cell_type": "code",
      "source": [
        "!ls millionlive_idol_prediction/"
      ],
      "execution_count": 0,
      "outputs": []
    },
    {
      "metadata": {
        "id": "GEvqs-xgZAra",
        "colab_type": "text"
      },
      "cell_type": "markdown",
      "source": [
        "# Settings"
      ]
    },
    {
      "metadata": {
        "id": "gFEjmSgVcYl8",
        "colab_type": "code",
        "outputId": "d6d33087-6d9b-4396-cbdc-8bea085dc1c9",
        "colab": {
          "base_uri": "https://localhost:8080/",
          "height": 34
        }
      },
      "cell_type": "code",
      "source": [
        "!python --version"
      ],
      "execution_count": 7,
      "outputs": [
        {
          "output_type": "stream",
          "text": [
            "Python 3.6.7\n"
          ],
          "name": "stdout"
        }
      ]
    },
    {
      "metadata": {
        "id": "fGsn9g-0ZrBQ",
        "colab_type": "code",
        "colab": {}
      },
      "cell_type": "code",
      "source": [
        "%config inlineBackend.figure_format = 'retina'"
      ],
      "execution_count": 0,
      "outputs": []
    },
    {
      "metadata": {
        "id": "pD4KHAcir0Jd",
        "colab_type": "text"
      },
      "cell_type": "markdown",
      "source": [
        "# Training"
      ]
    },
    {
      "metadata": {
        "id": "IrL2XqyYZPH_",
        "colab_type": "code",
        "outputId": "fa01d56e-5884-4ac6-8383-9aaa4d60a45f",
        "colab": {
          "base_uri": "https://localhost:8080/",
          "height": 34
        }
      },
      "cell_type": "code",
      "source": [
        "import torch\n",
        "import sys, os.path, glob, json\n",
        "from collections import OrderedDict\n",
        "import torch.nn as nn\n",
        "import torch.optim as optim\n",
        "from torch.utils.data import Dataset, DataLoader\n",
        "from sklearn.model_selection import train_test_split\n",
        "import pandas as pd\n",
        "import numpy as np\n",
        "import matplotlib as mpl\n",
        "import matplotlib.pyplot as plt\n",
        "import seaborn as sns\n",
        "from sklearn.metrics import classification_report\n",
        "from sklearn.metrics import confusion_matrix\n",
        "\n",
        "device = torch.device(\"cuda\" if torch.cuda.is_available() else \"cpu\")\n",
        "print(\"Device:\", device)\n",
        "\n",
        "root_dir = './millionlive_idol_prediction/'\n",
        "idol_script_file = root_dir + 'millionlive_idol_script_test.csv'\n",
        "tmp_dir = root_dir + 'tmp/'\n",
        "\n",
        "max_length = 90\n",
        "batch_size = 200\n",
        "\n",
        "class MillionLiveIdolScriptsDataset(Dataset):\n",
        "    \"\"\"\n",
        "    Script dataset of THE IDOLM@STER MILLION LIVE! idols.\n",
        "\n",
        "    Args:\n",
        "            csv_file (string): Path to the csv file which contains scripts per an idol.\n",
        "    \"\"\"\n",
        "    \n",
        "    def __init__(self, csv_file=idol_script_file, transform=None):\n",
        "        self.idol_data_frame = pd.read_csv(csv_file)\n",
        "        self.transform = transform\n",
        "\n",
        "        print(self.idol_data_frame)\n",
        "\n",
        "    def __len__(self):         \n",
        "        return len(self.idol_data_frame)\n",
        "        \n",
        "    def __getitem__(self, idx):\n",
        "        _id = self.idol_data_frame.iat[idx, 0] # Integer\n",
        "        _idol_id = self.idol_data_frame.iat[idx, 1]\n",
        "        _script = self.idol_data_frame.iat[idx, 2]\n",
        "\n",
        "        if self.transform:\n",
        "            _id, _idol_id, _script = self.transform(_id, _idol_id, _script)\n",
        "\n",
        "        return _id, _idol_id, _script\n",
        "\n",
        "class StringToTensor(object):\n",
        "    \"\"\"\n",
        "    Convert the id in sample to Tensors.\n",
        "    Then turn the script in sample into Unicode code points and convert it to Tensors.\n",
        "    \"\"\"\n",
        "\n",
        "    def __init__(self, max_length):\n",
        "        self.max_length = max_length\n",
        "    \n",
        "    def __string_to_codepoint(self, _str):\n",
        "        _encoded_str = [ord(_x) for _x in str(_str).strip()]\n",
        "        # Return an encoded string as an array like below.\n",
        "        # [12450, 12452, 12489, 12523, 12395, 12394, 12387, 12390, 12289, 31169, 12398, 22818, 12395, 33394, 12364, 12388, 12365, 12414, 12375, 12383, 12290, 20449, 12376, 12390, 27497, 12365, 32154, 12369, 12390, 12356, 12428, 12400, 12289, 12365, 12387, 12392, 12289, 12356, 12388, 12363, 8230, 12290, 12503, 12525, 12487, 12517, 12540, 12469, 12540, 12290, 31169, 12289, 32118, 23550, 12395, 23626, 12369, 12390, 12415, 12379, 12414, 12377, 12397, 65281]\n",
        "        _encoded_str = _encoded_str[:self.max_length]\n",
        "        _str_len = len(str(_str)) # String length\n",
        "        if _str_len < self.max_length: # If string length is less than a num of max_length, do zero padding\n",
        "            _encoded_str += ([0] * (self.max_length - _str_len))\n",
        "        \n",
        "        return _encoded_str\n",
        "\n",
        "    def __call__(self, _id, _idol_id, _script):\n",
        "        \n",
        "        _script = self.__string_to_codepoint(_script)\n",
        "\n",
        "        return _id, _idol_id, torch.tensor(_script, dtype=torch.long)\n",
        "    \n",
        "class CLCNN(nn.Module):\n",
        "    def __init__(self, embed_size=256, filter_sizes=(2, 3, 4, 5), filter_num=512, max_length=max_length):\n",
        "        super(CLCNN, self).__init__() # Call a method of super class.\n",
        "        self.filter_sizes = filter_sizes\n",
        "        self.filter_num = filter_num\n",
        "        \n",
        "        self.emb = nn.Embedding(0xffff, embed_size, padding_idx=0) # Get only kinds of three-byte characters of UTF-8\n",
        "        \n",
        "        # Convolution layer\n",
        "        self.conv0 = nn.Sequential(\n",
        "            nn.Conv2d(1, filter_num, (filter_sizes[0], embed_size)),\n",
        "            nn.ReLU(),\n",
        "            nn.MaxPool2d((max_length - filter_sizes[0] + 1, 1))\n",
        "        )\n",
        "        \n",
        "        self.conv1 = nn.Sequential(\n",
        "            nn.Conv2d(1, filter_num, (filter_sizes[1], embed_size)),\n",
        "            nn.ReLU(),\n",
        "            nn.MaxPool2d((max_length - filter_sizes[1] + 1, 1))\n",
        "        )\n",
        "        \n",
        "        self.conv2 = nn.Sequential(\n",
        "            nn.Conv2d(1, filter_num, (filter_sizes[2], embed_size)),\n",
        "            nn.ReLU(),\n",
        "            nn.MaxPool2d((max_length - filter_sizes[2] + 1, 1))\n",
        "        )\n",
        "        \n",
        "        self.conv3 = nn.Sequential(\n",
        "            nn.Conv2d(1, filter_num, (filter_sizes[3], embed_size)),\n",
        "            nn.ReLU(),\n",
        "            nn.MaxPool2d((max_length - filter_sizes[3] + 1, 1))\n",
        "        )\n",
        "        \n",
        "        # Fully connected layer\n",
        "        self.dense = nn.Sequential(\n",
        "            nn.Linear(filter_num * len(self.filter_sizes), 128),\n",
        "            nn.ReLU(),\n",
        "            nn.BatchNorm1d(128),\n",
        "            nn.Dropout(0.3),\n",
        "            nn.Linear(128, 13),\n",
        "            nn.Softmax(dim=1)\n",
        "        )\n",
        "    \n",
        "    def forward(self, x):\n",
        "        #print('input:', x.size())\n",
        "        out = self.emb(x)\n",
        "        #print('emb:', out.size())\n",
        "        emb_out = out.unsqueeze(1) # Insert a dimension\n",
        "        #print('emb_ex:', emb_out.size())\n",
        "\n",
        "        concat_out = torch.cat((self.conv0(emb_out), self.conv1(emb_out), self.conv2(emb_out), self.conv3(emb_out)), 1)\n",
        "        #print('concatnated:', concat_out.size())\n",
        "        out = concat_out.view(-1, self.filter_num * len(self.filter_sizes))\n",
        "        #print('flatten:', out.size())\n",
        "        out = self.dense(out)\n",
        "        #print('output:', out.size())\n",
        "        \n",
        "        return out\n",
        "        \n",
        "def train(model, optimizer, criterion, train_loader):\n",
        "    model.train()\n",
        "    running_loss = 0\n",
        "    for batch_idx, (labels, idol_ids, scripts)  in enumerate(train_loader):\n",
        "        labels = labels.to(device)\n",
        "        scripts = scripts.to(device)\n",
        "\n",
        "        optimizer.zero_grad()\n",
        "        outputs = model(scripts)\n",
        "\n",
        "        loss = criterion(outputs, labels)\n",
        "        running_loss += loss.item()\n",
        "\n",
        "        loss.backward()\n",
        "        optimizer.step()\n",
        "    \n",
        "    train_loss = running_loss / len(train_loader)\n",
        "\n",
        "    return train_loss\n",
        "\n",
        "def valid(model, optimizer, criterion, test_loader):\n",
        "    model.eval()\n",
        "    running_loss = 0\n",
        "    correct = 0\n",
        "    total = 0\n",
        "\n",
        "    with torch.no_grad():\n",
        "        for batch_idx, (labels, idol_ids, scripts)  in enumerate(test_loader):\n",
        "            labels = labels.to(device)\n",
        "            scripts = scripts.to(device)\n",
        "\n",
        "            outputs = model(scripts)\n",
        "\n",
        "            loss = criterion(outputs, labels)\n",
        "            running_loss += loss.item()\n",
        "\n",
        "            predicted = outputs.max(1, keepdim=True)[1] # Get the index of the max log-probability\n",
        "            correct += predicted.eq(labels.view_as(predicted)).sum().item()\n",
        "            total += labels.size(0) # Dim 0 is Batch size\n",
        "    \n",
        "    val_loss = running_loss / len(test_loader)\n",
        "    val_acc = correct / total\n",
        "\n",
        "    return val_loss, val_acc\n",
        "\n",
        "def fit(model, optimizer, criterion, train_loader, test_loader, learning_rate, num_epochs):\n",
        "    loss_list = []\n",
        "    val_loss_list = []\n",
        "    val_acc_list = []\n",
        "    for epoch in range(num_epochs):\n",
        "        loss = train(model, optimizer, criterion, train_loader)\n",
        "        val_loss, val_acc = valid(model, optimizer, criterion, test_loader)\n",
        "\n",
        "        print('epoch %d, loss: %.4f val_loss: %.4f val_acc: %.4f' % (epoch, loss, val_loss, val_acc))\n",
        "\n",
        "        # Logging\n",
        "        loss_list.append(loss)\n",
        "        val_loss_list.append(val_loss)\n",
        "        val_acc_list.append(val_acc)\n",
        "    \n",
        "    print('Finished training.')\n",
        "    \n",
        "    # Save the trained model\n",
        "    #np.save('loss_list.npy', np.array(loss_list))\n",
        "    #np.save('val_loss_list.npy', np.array(val_loss_list))\n",
        "    #np.save('val_acc_list.npy', np.array(val_acc_list))\n",
        "    torch.save(model.state_dict(), root_dir + 'clcnn.pkl')\n",
        "    \n",
        "    return loss_list, val_loss_list, val_acc_list\n",
        "\n",
        "def plot_history(loss_list, val_loss_list, val_acc_list):\n",
        "    # Plot loss curve\n",
        "    display('Model Loss')\n",
        "    plt.plot(loss_list,\".-\",label=\"loss\",)\n",
        "    plt.plot(val_loss_list,\".-\",label=\"val_loss\")\n",
        "    plt.title('model loss')\n",
        "    plt.xlabel('epoch')\n",
        "    plt.ylabel('loss')\n",
        "    plt.legend()\n",
        "    plt.show()\n",
        "\n",
        "    # Plot accurancy curve\n",
        "    display('Model Acc')\n",
        "    #plt.plot(history.history['acc'],\".-\",label=\"accuracy\")\n",
        "    plt.plot(val_acc_list,\".-\",label=\"val_acc\")\n",
        "    plt.title('model accuracy')\n",
        "    plt.xlabel('epoch')\n",
        "    plt.ylabel('accuracy')\n",
        "    plt.legend()\n",
        "    plt.show()\n",
        "\n",
        "def result_report(model, test_loader):\n",
        "    global idol_dict\n",
        "    # Classification Report\n",
        "    y_true = []\n",
        "    y_pred = []\n",
        "    for i, (y, z, x) in enumerate(test_loader):\n",
        "        y = y.to(device)\n",
        "        x = x.to(device)\n",
        "\n",
        "        with torch.no_grad():\n",
        "            output = model(x)\n",
        "        y_pred += [idol_dict[int(l.argmax())] for l in output]\n",
        "        y_true += [idol_dict[int(l)] for l in y]\n",
        "\n",
        "    print(classification_report(y_true, y_pred))\n",
        "    \n",
        "    # Confusion Matrix\n",
        "    plt.figure()\n",
        "    fig, ax = plt.subplots(figsize=(12, 9)) \n",
        "    labels = [idol_dict[i] for i in range(len(idol_dict))]\n",
        "    cmx_data = confusion_matrix(y_true, y_pred, labels=labels)\n",
        "    cmx_df = pd.DataFrame(cmx_data, index=labels, columns=labels)\n",
        "    sns.heatmap(cmx_df, square=True, annot=True, cmap='Blues')\n",
        "    plt.savefig(root_dir + 'cmx.png')"
      ],
      "execution_count": 40,
      "outputs": [
        {
          "output_type": "stream",
          "text": [
            "Device: cuda\n"
          ],
          "name": "stdout"
        }
      ]
    },
    {
      "metadata": {
        "id": "mYwF6yOVHL1u",
        "colab_type": "code",
        "outputId": "15d4f7b0-0f61-415b-9ddc-54f804c097ea",
        "colab": {
          "base_uri": "https://localhost:8080/",
          "height": 2553
        }
      },
      "cell_type": "code",
      "source": [
        "# Million Live Idol Scripts Dataset (Scripts and Labels)\n",
        "transformed_script_dataset = MillionLiveIdolScriptsDataset(transform=StringToTensor(max_length))\n",
        "# Split dataset\n",
        "train_data, test_data = train_test_split(transformed_script_dataset, test_size=0.25)\n",
        "# Dataset Loader\n",
        "train_loader = DataLoader(train_data, batch_size=batch_size, shuffle=True, num_workers=10)\n",
        "test_loader = DataLoader(test_data, batch_size=batch_size, shuffle=False, num_workers=10)\n",
        "\n",
        "\"\"\"\n",
        "for i_batch, (id, idol_id, script)  in enumerate(train_loader):\n",
        "    print('index:', i_batch)\n",
        "    print('id:', id.size())\n",
        "    print('idol_id:', idol_id)\n",
        "    print('script:', script.size())\n",
        "\"\"\"\n",
        "learning_rate = 0.001\n",
        "num_epochs = 50\n",
        "\n",
        "# Create model\n",
        "model = CLCNN(max_length=max_length).to(device)\n",
        "optimizer = optim.Adam(model.parameters(), lr=learning_rate)\n",
        "criterion = nn.CrossEntropyLoss()\n",
        "print(model)\n",
        "\n",
        "# Generate an idol dictionary\n",
        "idol_df = transformed_script_dataset.idol_data_frame.set_index('id')\n",
        "idol_dict = idol_df['idol_id'].drop_duplicates().to_dict()\n",
        "\n",
        "# Fit\n",
        "loss_list, val_loss_list, val_acc_list = fit(model, optimizer, criterion, train_loader, test_loader, learning_rate, num_epochs)"
      ],
      "execution_count": 41,
      "outputs": [
        {
          "output_type": "stream",
          "text": [
            "      id idol_id                                             script\n",
            "0      0  haruka                 トップアイドル目指して、歌も踊りも頑張ります！よろしくお願いします♪\n",
            "1      0  haruka                               お仕事、頑張るぞー！なーんて、えへへ…。\n",
            "2      0  haruka                                   張り切っていっちゃいましょうっ！\n",
            "3      0  haruka                      あの、クッキー焼いてきたんですけど、食べてもらえますか…？\n",
            "4      0  haruka                              プロデューサーさん、いつもお疲れさまです♪\n",
            "5      0  haruka                          いたたた…。うう、事務所の前で転んじゃいました…。\n",
            "6      0  haruka                             えへへっ。私、すっごくワクワクしてきました！\n",
            "7      0  haruka                             よろしくお願いします、プロデューサーさんっ！\n",
            "8      0  haruka            ふわあぁ～…っ！あっ、す、すみません！恥ずかしいところ、見られちゃいました…。\n",
            "9      0  haruka  私を応援してくれてるファンの人って、どのぐらいいるのかなぁ…。プロデューサーさん、気になりま...\n",
            "10     0  haruka      昨日、劇場のみんなとカラオケに行ってきたんです！プロデューサーさんも来ればよかったのに～。\n",
            "11     0  haruka                       プロデューサーさんとなら私、どこまでも頑張れそうですっ！\n",
            "12     0  haruka  プロデューサーさん、ケーキとクッキーだったらどっちが好きですか？…あ、えっとその、今後の参考...\n",
            "13     0  haruka   プロデューサーさん、私、まだまだ満足したくないですっ！もっともっと、たくさん歌を歌いたいから…！\n",
            "14     0  haruka           あの、プロデューサーさんの好きなお料理って何ですか？…練習しとこうかな、なんて♪\n",
            "15     0  haruka           プロデューサーさん、あんまりムリはしないで下さいね？やっぱり、健康が第一ですよ！\n",
            "16     0  haruka    アイドルをお仕事にできるなんて、私って本当に幸せです♪おまけに担当がプロデューサーさんですし！\n",
            "17     0  haruka    もっといろんなイベントで、ファンのみんなやプロデューサーさんと一緒に楽しんでいけたらいいな…♪\n",
            "18     0  haruka       私達も劇場も、成長していくんですよね。これからどんなふうに変わるか、とっても楽しみです♪\n",
            "19     0  haruka  いつも私の相談にのってもらってばかりですよね。よし、今度は私が相談のりますよ、プロデュ－サ－さん♪\n",
            "20     0  haruka       劇場のみんなと、プロデュ－サ－さんと一緒に…。ずっとこういう日が続けばいいなぁ、なんて♪\n",
            "21     0  haruka       あっ！あんなところに、手作りのお菓子屋さんが！？時間があったらゼッタイ寄ったのになぁ…。\n",
            "22     0  haruka                                えへへっ♪歌のお仕事って、大好きです！\n",
            "23     0  haruka                            こんなステキな曲が歌えるなんて…夢みたいです！\n",
            "24     0  haruka                          わぁ…かわいい衣装！着るのが楽しみです！えへへっ♪\n",
            "25     0  haruka                                   わわっ！！ご、ごめんなさいっ！！\n",
            "26     0  haruka                            ファンのみんなにも楽しんでもらえてるのかな…？\n",
            "27     0  haruka                              プロデューサーさん、のどかわいてませんか？\n",
            "28     0  haruka                           元気がよくてよろしい、ってほめられちゃいました！\n",
            "29     0  haruka                               失敗しちゃいました。うう…すみません…。\n",
            "...   ..     ...                                                ...\n",
            "2223  12  yuriko  ファッション誌も、けっこうチェックしてるんですよ？今日は海外セレブ風に、ちょっと背伸びしてみ...\n",
            "2224  12  yuriko  私達の歌も、ダンスも、もっともっと、大勢の皆さんに届けたい気持ちで、いっぱいです！ああ、私に...\n",
            "2225  12  yuriko  私達の歌も、ダンスも、もっともっと、大勢の皆さんに届けたい気持ちで、いっぱいです！ああ、私に...\n",
            "2226  12  yuriko  ケホッ、ケホッ…。うう、ライン引きを取ろうとして､転んじゃいました…。け、決して鈍いわけじゃ...\n",
            "2227  12  yuriko  運動はやっぱり得意じゃないですけど、ダンスは好きになりましたよ！プロデューサーさん、私の成長...\n",
            "2228  12  yuriko                                   ボールを拾って、拾い続けます！！\n",
            "2229  12  yuriko  …我が眠りを妨げる愚か者よ…。この渇きを癒す糧として棺の前で果てるか、共に永遠の夜を生きるか...\n",
            "2230  12  yuriko  みなさん、パレード楽しんでくれてますか～！あっ…おいしそうなプロデューサーさん発見♪フフ、逃...\n",
            "2231  12  yuriko  光あふれるステージにようこそ！メインの10人はもちろん、私達全員が一丸となって、最高のライブ...\n",
            "2232  12  yuriko  きゃあっ！？た、高い…。足下に見える景色が、すごい速さで流れていきます…！この絶景、目を閉じ...\n",
            "2233  12  yuriko  この歌が終わった時、私とプロデューサーさんは、どんなページをめくっていますか？…私にも、いつ...\n",
            "2234  12  yuriko  特別な衣装で立つ、特別なステージ…プレッシャーはあるけど、プロデューサーさんがいてくれるから...\n",
            "2235  12  yuriko  特別な衣装で立つ、特別なステージ…プレッシャーはあるけど、プロデューサーさんがいてくれるから...\n",
            "2236  12  yuriko  琴葉様に楯突く者は、誰であろうと倒す…。正義も、友情も…そんなモノは必要ないと、琴葉様が仰っ...\n",
            "2237  12  yuriko  落ち着いて、ボールをしっかり見て…きゃあ！？…うう、肝心なところで転んじゃうなんて、私って本...\n",
            "2238  12  yuriko  みなさん、野球と同じぐらい、私達のライブも楽しんでいってくださいね！試合と変わらない大きな声...\n",
            "2239  12  yuriko  うぅ…ふ、船って、こんなに揺れるんですね…私…冬の海を、すっかり侮っていました…。でも、負け...\n",
            "2240  12  yuriko      め、目覚めよ、私の三半規管っ…！大丈夫です、乗り物酔いなんかに負け…負けたりはっ…うぅ…。\n",
            "2241  12  yuriko                        漁師さんを描く小説といえば、やっぱり老人と海ですよね！\n",
            "2242  12  yuriko                                   私は、サメとは戦えませんけど…。\n",
            "2243  12  yuriko     荒海に漕ぎ出すお仕事に比べればダンスレッスンの方がずっと楽…あ、気のせいでした、すみません！\n",
            "2244  12  yuriko                                鯛はめでたいですからね、縁起物ですよ！\n",
            "2245  12  yuriko           恵比寿様らしく、たくさん釣り上げて、幸せを祈願します♪みなさんの新年に、幸あれ！\n",
            "2246  12  yuriko    新年を飾るのに相応しい､素敵なライブでした！プロデューサーさん､今年もよろしくお願いしますね！\n",
            "2247  12  yuriko    プロデューサーさんも､私に釣られてみますか？…なんでもないです！独り言ですから聞き流してっ…！\n",
            "2248  12  yuriko    どうですか？この立派な鯛！私も､いつかこの手で、トップアイドルの座を釣り上げてみせますからね！\n",
            "2249  12  yuriko  初めての舞台では、緊張と不安で跳ねていた心臓が、今は期待でドキドキしています！最高の笑顔に感...\n",
            "2250  12  yuriko  初めての舞台では、緊張と不安で跳ねていた心臓が、今は期待でドキドキしています！最高の笑顔に感...\n",
            "2251  12  yuriko  プロデューサーさんに何の本をすすめようって、先週からずっと考えてたんです！ファンタジーならこ...\n",
            "2252  12  yuriko  プロデューサーさんの魔法が、私を、世界で一番魅力的な女の子に変えてくれるんですよ！魔法が解け...\n",
            "\n",
            "[2253 rows x 3 columns]\n",
            "CLCNN(\n",
            "  (emb): Embedding(65535, 256, padding_idx=0)\n",
            "  (conv0): Sequential(\n",
            "    (0): Conv2d(1, 512, kernel_size=(2, 256), stride=(1, 1))\n",
            "    (1): ReLU()\n",
            "    (2): MaxPool2d(kernel_size=(89, 1), stride=(89, 1), padding=0, dilation=1, ceil_mode=False)\n",
            "  )\n",
            "  (conv1): Sequential(\n",
            "    (0): Conv2d(1, 512, kernel_size=(3, 256), stride=(1, 1))\n",
            "    (1): ReLU()\n",
            "    (2): MaxPool2d(kernel_size=(88, 1), stride=(88, 1), padding=0, dilation=1, ceil_mode=False)\n",
            "  )\n",
            "  (conv2): Sequential(\n",
            "    (0): Conv2d(1, 512, kernel_size=(4, 256), stride=(1, 1))\n",
            "    (1): ReLU()\n",
            "    (2): MaxPool2d(kernel_size=(87, 1), stride=(87, 1), padding=0, dilation=1, ceil_mode=False)\n",
            "  )\n",
            "  (conv3): Sequential(\n",
            "    (0): Conv2d(1, 512, kernel_size=(5, 256), stride=(1, 1))\n",
            "    (1): ReLU()\n",
            "    (2): MaxPool2d(kernel_size=(86, 1), stride=(86, 1), padding=0, dilation=1, ceil_mode=False)\n",
            "  )\n",
            "  (dense): Sequential(\n",
            "    (0): Linear(in_features=2048, out_features=128, bias=True)\n",
            "    (1): ReLU()\n",
            "    (2): BatchNorm1d(128, eps=1e-05, momentum=0.1, affine=True, track_running_stats=True)\n",
            "    (3): Dropout(p=0.3)\n",
            "    (4): Linear(in_features=128, out_features=13, bias=True)\n",
            "    (5): Softmax()\n",
            "  )\n",
            ")\n",
            "epoch 0, loss: 2.5430 val_loss: 2.5429 val_acc: 0.1454\n",
            "epoch 1, loss: 2.4810 val_loss: 2.4701 val_acc: 0.3759\n",
            "epoch 2, loss: 2.4156 val_loss: 2.4066 val_acc: 0.4486\n",
            "epoch 3, loss: 2.3361 val_loss: 2.3794 val_acc: 0.4699\n",
            "epoch 4, loss: 2.2533 val_loss: 2.3660 val_acc: 0.5408\n",
            "epoch 5, loss: 2.1645 val_loss: 2.3473 val_acc: 0.5585\n",
            "epoch 6, loss: 2.0672 val_loss: 2.3101 val_acc: 0.5745\n",
            "epoch 7, loss: 1.9746 val_loss: 2.2732 val_acc: 0.6631\n",
            "epoch 8, loss: 1.8962 val_loss: 2.2439 val_acc: 0.6613\n",
            "epoch 9, loss: 1.8370 val_loss: 2.2028 val_acc: 0.6649\n",
            "epoch 10, loss: 1.8003 val_loss: 2.2139 val_acc: 0.6348\n",
            "epoch 11, loss: 1.7699 val_loss: 2.1799 val_acc: 0.6791\n",
            "epoch 12, loss: 1.7534 val_loss: 2.1754 val_acc: 0.6738\n",
            "epoch 13, loss: 1.7404 val_loss: 2.1756 val_acc: 0.6277\n",
            "epoch 14, loss: 1.7328 val_loss: 2.1502 val_acc: 0.6578\n",
            "epoch 15, loss: 1.7271 val_loss: 2.1616 val_acc: 0.6507\n",
            "epoch 16, loss: 1.7236 val_loss: 2.1453 val_acc: 0.6543\n",
            "epoch 17, loss: 1.7197 val_loss: 2.1376 val_acc: 0.6826\n",
            "epoch 18, loss: 1.7163 val_loss: 2.1346 val_acc: 0.6738\n",
            "epoch 19, loss: 1.7141 val_loss: 2.1219 val_acc: 0.6879\n",
            "epoch 20, loss: 1.7121 val_loss: 2.1189 val_acc: 0.7057\n",
            "epoch 21, loss: 1.7096 val_loss: 2.1221 val_acc: 0.6809\n",
            "epoch 22, loss: 1.7084 val_loss: 2.1092 val_acc: 0.7004\n",
            "epoch 23, loss: 1.7062 val_loss: 2.1123 val_acc: 0.6986\n",
            "epoch 24, loss: 1.7054 val_loss: 2.1061 val_acc: 0.6986\n",
            "epoch 25, loss: 1.7062 val_loss: 2.1056 val_acc: 0.6986\n",
            "epoch 26, loss: 1.7047 val_loss: 2.1075 val_acc: 0.6915\n",
            "epoch 27, loss: 1.7053 val_loss: 2.0986 val_acc: 0.6933\n",
            "epoch 28, loss: 1.7039 val_loss: 2.0998 val_acc: 0.6844\n",
            "epoch 29, loss: 1.7029 val_loss: 2.1020 val_acc: 0.6826\n",
            "epoch 30, loss: 1.7022 val_loss: 2.0939 val_acc: 0.7074\n",
            "epoch 31, loss: 1.7017 val_loss: 2.1057 val_acc: 0.6791\n",
            "epoch 32, loss: 1.7014 val_loss: 2.0945 val_acc: 0.6950\n",
            "epoch 33, loss: 1.7004 val_loss: 2.0922 val_acc: 0.6915\n",
            "epoch 34, loss: 1.7004 val_loss: 2.0919 val_acc: 0.7039\n",
            "epoch 35, loss: 1.6998 val_loss: 2.0920 val_acc: 0.7021\n",
            "epoch 36, loss: 1.7003 val_loss: 2.0911 val_acc: 0.6915\n",
            "epoch 37, loss: 1.7000 val_loss: 2.0874 val_acc: 0.7039\n",
            "epoch 38, loss: 1.6997 val_loss: 2.0873 val_acc: 0.7057\n",
            "epoch 39, loss: 1.6993 val_loss: 2.0866 val_acc: 0.6950\n",
            "epoch 40, loss: 1.6986 val_loss: 2.0867 val_acc: 0.6950\n",
            "epoch 41, loss: 1.6996 val_loss: 2.0844 val_acc: 0.6986\n",
            "epoch 42, loss: 1.6988 val_loss: 2.0803 val_acc: 0.7004\n",
            "epoch 43, loss: 1.6979 val_loss: 2.0808 val_acc: 0.6986\n",
            "epoch 44, loss: 1.6987 val_loss: 2.0819 val_acc: 0.6986\n",
            "epoch 45, loss: 1.6982 val_loss: 2.0803 val_acc: 0.6986\n",
            "epoch 46, loss: 1.6973 val_loss: 2.0757 val_acc: 0.7074\n",
            "epoch 47, loss: 1.6972 val_loss: 2.0739 val_acc: 0.7039\n",
            "epoch 48, loss: 1.6971 val_loss: 2.0736 val_acc: 0.7092\n",
            "epoch 49, loss: 1.6970 val_loss: 2.0771 val_acc: 0.7021\n",
            "Finished training.\n"
          ],
          "name": "stdout"
        }
      ]
    },
    {
      "metadata": {
        "id": "V_tYFThFGu_C",
        "colab_type": "text"
      },
      "cell_type": "markdown",
      "source": [
        "## Model Loss and Model Accuracy"
      ]
    },
    {
      "metadata": {
        "id": "twwxuKX0G4F2",
        "colab_type": "code",
        "outputId": "0bfc9f51-659b-472d-b281-c43e53bd9af7",
        "colab": {
          "base_uri": "https://localhost:8080/",
          "height": 770
        }
      },
      "cell_type": "code",
      "source": [
        "plot_history(loss_list, val_loss_list, val_acc_list)"
      ],
      "execution_count": 42,
      "outputs": [
        {
          "output_type": "display_data",
          "data": {
            "text/plain": [
              "'Model Loss'"
            ]
          },
          "metadata": {
            "tags": []
          }
        },
        {
          "output_type": "display_data",
          "data": {
            "image/png": "[encoded data removed]",
            "text/plain": [
              "<Figure size 576x396 with 1 Axes>"
            ]
          },
          "metadata": {
            "tags": []
          }
        },
        {
          "output_type": "display_data",
          "data": {
            "text/plain": [
              "'Model Acc'"
            ]
          },
          "metadata": {
            "tags": []
          }
        },
        {
          "output_type": "display_data",
          "data": {
            "image/png": "[encoded data removed]",
            "text/plain": [
              "<Figure size 576x396 with 1 Axes>"
            ]
          },
          "metadata": {
            "tags": []
          }
        }
      ]
    },
    {
      "metadata": {
        "id": "x7jj-L7SG5pr",
        "colab_type": "text"
      },
      "cell_type": "markdown",
      "source": [
        "## Reports"
      ]
    },
    {
      "metadata": {
        "id": "teaECcW9G5b7",
        "colab_type": "code",
        "outputId": "4d463faf-766f-4b77-e70b-b981b7a891bb",
        "colab": {
          "base_uri": "https://localhost:8080/",
          "height": 906
        }
      },
      "cell_type": "code",
      "source": [
        "result_report(model, test_loader)"
      ],
      "execution_count": 43,
      "outputs": [
        {
          "output_type": "stream",
          "text": [
            "              precision    recall  f1-score   support\n",
            "\n",
            "     chihaya       0.55      0.53      0.54        43\n",
            "       emily       0.73      0.62      0.67        39\n",
            "      haruka       0.37      0.49      0.42        35\n",
            "       karen       0.75      0.75      0.75        40\n",
            "     matsuri       0.93      0.95      0.94        39\n",
            "      mizuki       0.74      0.89      0.81        56\n",
            "         nao       0.93      0.91      0.92        44\n",
            "        roco       0.88      0.89      0.88        47\n",
            "      serika       0.69      0.58      0.63        43\n",
            "       shiho       0.49      0.67      0.56        33\n",
            "      takane       0.63      0.67      0.65        46\n",
            "      yukiho       0.82      0.61      0.70        44\n",
            "      yuriko       0.68      0.51      0.58        55\n",
            "\n",
            "   micro avg       0.70      0.70      0.70       564\n",
            "   macro avg       0.71      0.70      0.70       564\n",
            "weighted avg       0.71      0.70      0.70       564\n",
            "\n"
          ],
          "name": "stdout"
        },
        {
          "output_type": "display_data",
          "data": {
            "text/plain": [
              "<Figure size 576x396 with 0 Axes>"
            ]
          },
          "metadata": {
            "tags": []
          }
        },
        {
          "output_type": "display_data",
          "data": {
            "image/png": "[encoded data removed]",
            "text/plain": [
              "<Figure size 864x648 with 2 Axes>"
            ]
          },
          "metadata": {
            "tags": []
          }
        }
      ]
    },
    {
      "metadata": {
        "id": "kfVAWbrUrX8x",
        "colab_type": "text"
      },
      "cell_type": "markdown",
      "source": [
        "# Prediction"
      ]
    },
    {
      "metadata": {
        "id": "sg44cWKIoiKA",
        "colab_type": "code",
        "colab": {}
      },
      "cell_type": "code",
      "source": [
        "def string_to_codepoint(_str, max_length=max_length):\n",
        "    _encoded_str = [ord(_x) for _x in str(_str).strip()]\n",
        "    _encoded_str = _encoded_str[:max_length]\n",
        "    _str_len = len(str(_str)) # String length\n",
        "    if _str_len < max_length: # If string length is less than a num of max_length, do zero padding\n",
        "        _encoded_str += ([0] * (max_length - _str_len))\n",
        "    \n",
        "    return _encoded_str"
      ],
      "execution_count": 0,
      "outputs": []
    },
    {
      "metadata": {
        "id": "XONpG0gWrmbA",
        "colab_type": "code",
        "colab": {}
      },
      "cell_type": "code",
      "source": [
        "def predict(model, input_str):\n",
        "    model = model.eval()\n",
        "    with torch.no_grad():\n",
        "        output = model(input_str)\n",
        "    \n",
        "    return output"
      ],
      "execution_count": 0,
      "outputs": []
    },
    {
      "metadata": {
        "id": "R7_EgclOqwZg",
        "colab_type": "code",
        "outputId": "98765cc6-0bd2-48eb-da64-3cc8c9c8599e",
        "colab": {
          "base_uri": "https://localhost:8080/",
          "height": 475
        }
      },
      "cell_type": "code",
      "source": [
        "encoded_str = torch.LongTensor(string_to_codepoint(input('Type a script:'))).unsqueeze(0).to(device)\n",
        "#print(encoded_str.size())\n",
        "result = predict(model, encoded_str)\n",
        "res_df = pd.DataFrame(result.cpu().numpy())\n",
        "res_df.rename(columns=idol_dict, index={0: 'likelihood'}, inplace=True)\n",
        "res_df = res_df.T.sort_values('likelihood', ascending=False)\n",
        "res_df"
      ],
      "execution_count": 45,
      "outputs": [
        {
          "output_type": "stream",
          "text": [
            "Type a script:プロデューサーさんがそばにいてくれると、ほっとします。パパみたいで、甘えたくなっちゃいます♪えへへ……♪\n"
          ],
          "name": "stdout"
        },
        {
          "output_type": "execute_result",
          "data": {
            "text/html": [
              "<div>\n",
              "<style scoped>\n",
              "    .dataframe tbody tr th:only-of-type {\n",
              "        vertical-align: middle;\n",
              "    }\n",
              "\n",
              "    .dataframe tbody tr th {\n",
              "        vertical-align: top;\n",
              "    }\n",
              "\n",
              "    .dataframe thead th {\n",
              "        text-align: right;\n",
              "    }\n",
              "</style>\n",
              "<table border=\"1\" class=\"dataframe\">\n",
              "  <thead>\n",
              "    <tr style=\"text-align: right;\">\n",
              "      <th></th>\n",
              "      <th>likelihood</th>\n",
              "    </tr>\n",
              "  </thead>\n",
              "  <tbody>\n",
              "    <tr>\n",
              "      <th>serika</th>\n",
              "      <td>0.636746</td>\n",
              "    </tr>\n",
              "    <tr>\n",
              "      <th>mizuki</th>\n",
              "      <td>0.137609</td>\n",
              "    </tr>\n",
              "    <tr>\n",
              "      <th>yukiho</th>\n",
              "      <td>0.053090</td>\n",
              "    </tr>\n",
              "    <tr>\n",
              "      <th>karen</th>\n",
              "      <td>0.043642</td>\n",
              "    </tr>\n",
              "    <tr>\n",
              "      <th>yuriko</th>\n",
              "      <td>0.037334</td>\n",
              "    </tr>\n",
              "    <tr>\n",
              "      <th>shiho</th>\n",
              "      <td>0.026759</td>\n",
              "    </tr>\n",
              "    <tr>\n",
              "      <th>haruka</th>\n",
              "      <td>0.021126</td>\n",
              "    </tr>\n",
              "    <tr>\n",
              "      <th>emily</th>\n",
              "      <td>0.020765</td>\n",
              "    </tr>\n",
              "    <tr>\n",
              "      <th>matsuri</th>\n",
              "      <td>0.009083</td>\n",
              "    </tr>\n",
              "    <tr>\n",
              "      <th>takane</th>\n",
              "      <td>0.004191</td>\n",
              "    </tr>\n",
              "    <tr>\n",
              "      <th>roco</th>\n",
              "      <td>0.003385</td>\n",
              "    </tr>\n",
              "    <tr>\n",
              "      <th>nao</th>\n",
              "      <td>0.003365</td>\n",
              "    </tr>\n",
              "    <tr>\n",
              "      <th>chihaya</th>\n",
              "      <td>0.002905</td>\n",
              "    </tr>\n",
              "  </tbody>\n",
              "</table>\n",
              "</div>"
            ],
            "text/plain": [
              "         likelihood\n",
              "serika     0.636746\n",
              "mizuki     0.137609\n",
              "yukiho     0.053090\n",
              "karen      0.043642\n",
              "yuriko     0.037334\n",
              "shiho      0.026759\n",
              "haruka     0.021126\n",
              "emily      0.020765\n",
              "matsuri    0.009083\n",
              "takane     0.004191\n",
              "roco       0.003385\n",
              "nao        0.003365\n",
              "chihaya    0.002905"
            ]
          },
          "metadata": {
            "tags": []
          },
          "execution_count": 45
        }
      ]
    }
  ]
}