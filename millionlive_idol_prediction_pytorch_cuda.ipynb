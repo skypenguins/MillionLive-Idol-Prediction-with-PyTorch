{
  "nbformat": 4,
  "nbformat_minor": 0,
  "metadata": {
    "colab": {
      "name": "millionlive_idol_prediction_pytorch_cuda",
      "version": "0.3.2",
      "provenance": [],
      "collapsed_sections": []
    },
    "kernelspec": {
      "name": "python3",
      "display_name": "Python 3"
    },
    "accelerator": "GPU"
  },
  "cells": [
    {
      "metadata": {
        "id": "UsJUnZCeDbby",
        "colab_type": "text"
      },
      "cell_type": "markdown",
      "source": [
        "# About Resources"
      ]
    },
    {
      "metadata": {
        "id": "o5rkeuD9Y8BR",
        "colab_type": "code",
        "outputId": "333b9292-4a4c-4afd-f571-83af57b06c87",
        "colab": {
          "base_uri": "https://localhost:8080/",
          "height": 34
        }
      },
      "cell_type": "code",
      "source": [
        "!cat /proc/uptime | awk '{print $1 /60 \" mins (\" $1 \"sec)\"}'"
      ],
      "execution_count": 1,
      "outputs": [
        {
          "output_type": "stream",
          "text": [
            "204.137 mins (12248.19sec)\n"
          ],
          "name": "stdout"
        }
      ]
    },
    {
      "metadata": {
        "id": "S3Td9dg5Cr2x",
        "colab_type": "code",
        "outputId": "ef1095e0-105d-4f45-deb0-63ba774a32c9",
        "colab": {
          "base_uri": "https://localhost:8080/",
          "height": 52
        }
      },
      "cell_type": "code",
      "source": [
        "!cat /etc/issue"
      ],
      "execution_count": 2,
      "outputs": [
        {
          "output_type": "stream",
          "text": [
            "Ubuntu 18.04.1 LTS \\n \\l\n",
            "\n"
          ],
          "name": "stdout"
        }
      ]
    },
    {
      "metadata": {
        "id": "qJBsIQfNC2J8",
        "colab_type": "code",
        "colab": {}
      },
      "cell_type": "code",
      "source": [
        "!df -h"
      ],
      "execution_count": 0,
      "outputs": []
    },
    {
      "metadata": {
        "id": "7RarurvYC-qY",
        "colab_type": "code",
        "colab": {}
      },
      "cell_type": "code",
      "source": [
        "!free -h"
      ],
      "execution_count": 0,
      "outputs": []
    },
    {
      "metadata": {
        "id": "lDy-JdGSDKY_",
        "colab_type": "code",
        "colab": {}
      },
      "cell_type": "code",
      "source": [
        "!cat /proc/cpuinfo"
      ],
      "execution_count": 0,
      "outputs": []
    },
    {
      "metadata": {
        "id": "Ie05IwFCDs1R",
        "colab_type": "code",
        "colab": {}
      },
      "cell_type": "code",
      "source": [
        "!nvidia-smi"
      ],
      "execution_count": 0,
      "outputs": []
    },
    {
      "metadata": {
        "id": "_rzZQcomrros",
        "colab_type": "text"
      },
      "cell_type": "markdown",
      "source": [
        "# Connecting to Google Drive"
      ]
    },
    {
      "metadata": {
        "id": "GhvNBg4VZD38",
        "colab_type": "code",
        "outputId": "488806d7-84af-49db-b07a-b32c8e7b07d3",
        "colab": {
          "base_uri": "https://localhost:8080/",
          "height": 34
        }
      },
      "cell_type": "code",
      "source": [
        "from google.colab import drive\n",
        "drive.mount('/content/drive')"
      ],
      "execution_count": 3,
      "outputs": [
        {
          "output_type": "stream",
          "text": [
            "Drive already mounted at /content/drive; to attempt to forcibly remount, call drive.mount(\"/content/drive\", force_remount=True).\n"
          ],
          "name": "stdout"
        }
      ]
    },
    {
      "metadata": {
        "id": "HNl7jOIY3SC0",
        "colab_type": "code",
        "outputId": "b9398e70-2d2a-4cdc-a29f-5003e723c4dc",
        "colab": {
          "base_uri": "https://localhost:8080/",
          "height": 34
        }
      },
      "cell_type": "code",
      "source": [
        "%cd /content/drive/My Drive"
      ],
      "execution_count": 4,
      "outputs": [
        {
          "output_type": "stream",
          "text": [
            "/content/drive/My Drive\n"
          ],
          "name": "stdout"
        }
      ]
    },
    {
      "metadata": {
        "id": "tAk-EDelZ4AW",
        "colab_type": "code",
        "colab": {}
      },
      "cell_type": "code",
      "source": [
        "!ls"
      ],
      "execution_count": 0,
      "outputs": []
    },
    {
      "metadata": {
        "id": "AO_zWVzXZIqX",
        "colab_type": "code",
        "colab": {}
      },
      "cell_type": "code",
      "source": [
        "!ls millionlive_idol_prediction/"
      ],
      "execution_count": 0,
      "outputs": []
    },
    {
      "metadata": {
        "id": "GEvqs-xgZAra",
        "colab_type": "text"
      },
      "cell_type": "markdown",
      "source": [
        "# Settings"
      ]
    },
    {
      "metadata": {
        "id": "gFEjmSgVcYl8",
        "colab_type": "code",
        "outputId": "d6d33087-6d9b-4396-cbdc-8bea085dc1c9",
        "colab": {
          "base_uri": "https://localhost:8080/",
          "height": 34
        }
      },
      "cell_type": "code",
      "source": [
        "!python --version"
      ],
      "execution_count": 7,
      "outputs": [
        {
          "output_type": "stream",
          "text": [
            "Python 3.6.7\n"
          ],
          "name": "stdout"
        }
      ]
    },
    {
      "metadata": {
        "id": "fGsn9g-0ZrBQ",
        "colab_type": "code",
        "colab": {}
      },
      "cell_type": "code",
      "source": [
        "%config inlineBackend.figure_format = 'retina'"
      ],
      "execution_count": 0,
      "outputs": []
    },
    {
      "metadata": {
        "id": "pD4KHAcir0Jd",
        "colab_type": "text"
      },
      "cell_type": "markdown",
      "source": [
        "# Training"
      ]
    },
    {
      "metadata": {
        "id": "IrL2XqyYZPH_",
        "colab_type": "code",
        "outputId": "2b2083d8-2838-4003-8d93-fcfffcf8fade",
        "colab": {
          "base_uri": "https://localhost:8080/",
          "height": 34
        }
      },
      "cell_type": "code",
      "source": [
        "import torch\n",
        "import sys, os.path, glob, json\n",
        "from collections import OrderedDict\n",
        "import torch.nn as nn\n",
        "import torch.optim as optim\n",
        "from torch.utils.data import Dataset, DataLoader\n",
        "from sklearn.model_selection import train_test_split\n",
        "import pandas as pd\n",
        "import numpy as np\n",
        "import matplotlib as mpl\n",
        "import matplotlib.pyplot as plt\n",
        "import seaborn as sns\n",
        "from sklearn.metrics import classification_report\n",
        "from sklearn.metrics import confusion_matrix\n",
        "\n",
        "device = torch.device(\"cuda\" if torch.cuda.is_available() else \"cpu\")\n",
        "print(\"Device:\", device)\n",
        "\n",
        "root_dir = './millionlive_idol_prediction/'\n",
        "idol_script_file = root_dir + 'millionlive_idol_script_test.csv'\n",
        "tmp_dir = root_dir + 'tmp/'\n",
        "\n",
        "max_length = 90\n",
        "batch_size = 100\n",
        "\n",
        "class MillionLiveIdolScriptsDataset(Dataset):\n",
        "    \"\"\"\n",
        "    Script dataset of THE IDOLM@STER MILLION LIVE! idols.\n",
        "\n",
        "    Args:\n",
        "            csv_file (string): Path to the csv file which contains scripts per an idol.\n",
        "    \"\"\"\n",
        "    \n",
        "    def __init__(self, csv_file=idol_script_file, transform=None):\n",
        "        self.idol_data_frame = pd.read_csv(csv_file)\n",
        "        self.transform = transform\n",
        "\n",
        "        print(self.idol_data_frame)\n",
        "\n",
        "    def __len__(self):         \n",
        "        return len(self.idol_data_frame)\n",
        "        \n",
        "    def __getitem__(self, idx):\n",
        "        _id = self.idol_data_frame.iat[idx, 0] # Integer\n",
        "        _idol_id = self.idol_data_frame.iat[idx, 1]\n",
        "        _script = self.idol_data_frame.iat[idx, 2]\n",
        "\n",
        "        if self.transform:\n",
        "            _id, _idol_id, _script = self.transform(_id, _idol_id, _script)\n",
        "\n",
        "        return _id, _idol_id, _script\n",
        "\n",
        "class StringToTensor(object):\n",
        "    \"\"\"\n",
        "    Convert the id in sample to Tensors.\n",
        "    Then turn the script in sample into Unicode code points and convert it to Tensors.\n",
        "    \"\"\"\n",
        "\n",
        "    def __init__(self, max_length):\n",
        "        self.max_length = max_length\n",
        "    \n",
        "    def __string_to_codepoint(self, _str):\n",
        "        _encoded_str = [ord(_x) for _x in str(_str).strip()]\n",
        "        # Return an encoded string as an array like below.\n",
        "        # [12450, 12452, 12489, 12523, 12395, 12394, 12387, 12390, 12289, 31169, 12398, 22818, 12395, 33394, 12364, 12388, 12365, 12414, 12375, 12383, 12290, 20449, 12376, 12390, 27497, 12365, 32154, 12369, 12390, 12356, 12428, 12400, 12289, 12365, 12387, 12392, 12289, 12356, 12388, 12363, 8230, 12290, 12503, 12525, 12487, 12517, 12540, 12469, 12540, 12290, 31169, 12289, 32118, 23550, 12395, 23626, 12369, 12390, 12415, 12379, 12414, 12377, 12397, 65281]\n",
        "        _encoded_str = _encoded_str[:self.max_length]\n",
        "        _str_len = len(str(_str)) # String length\n",
        "        if _str_len < self.max_length: # If string length is less than a num of max_length, do zero padding\n",
        "            _encoded_str += ([0] * (self.max_length - _str_len))\n",
        "        \n",
        "        return _encoded_str\n",
        "\n",
        "    def __call__(self, _id, _idol_id, _script):\n",
        "        \n",
        "        _script = self.__string_to_codepoint(_script)\n",
        "\n",
        "        return _id, _idol_id, torch.tensor(_script, dtype=torch.long)\n",
        "    \n",
        "class CLCNN(nn.Module):\n",
        "    def __init__(self, embed_size=256, filter_sizes=(2, 3, 4, 5), filter_num=512, max_length=max_length):\n",
        "        super(CLCNN, self).__init__() # Call a method of super class.\n",
        "        self.filter_sizes = filter_sizes\n",
        "        self.filter_num = filter_num\n",
        "        \n",
        "        self.emb = nn.Embedding(0xffff, embed_size, padding_idx=0) # Get only kinds of three-byte characters of UTF-8\n",
        "        \n",
        "        # Convolution layer\n",
        "        self.conv0 = nn.Sequential(\n",
        "            nn.Conv2d(1, filter_num, (filter_sizes[0], embed_size)),\n",
        "            nn.ReLU(),\n",
        "            nn.MaxPool2d((max_length - filter_sizes[0] + 1, 1))\n",
        "        )\n",
        "        \n",
        "        self.conv1 = nn.Sequential(\n",
        "            nn.Conv2d(1, filter_num, (filter_sizes[1], embed_size)),\n",
        "            nn.ReLU(),\n",
        "            nn.MaxPool2d((max_length - filter_sizes[1] + 1, 1))\n",
        "        )\n",
        "        \n",
        "        self.conv2 = nn.Sequential(\n",
        "            nn.Conv2d(1, filter_num, (filter_sizes[2], embed_size)),\n",
        "            nn.ReLU(),\n",
        "            nn.MaxPool2d((max_length - filter_sizes[2] + 1, 1))\n",
        "        )\n",
        "        \n",
        "        self.conv3 = nn.Sequential(\n",
        "            nn.Conv2d(1, filter_num, (filter_sizes[3], embed_size)),\n",
        "            nn.ReLU(),\n",
        "            nn.MaxPool2d((max_length - filter_sizes[3] + 1, 1))\n",
        "        )\n",
        "        \n",
        "        # Fully connected layer\n",
        "        self.dense = nn.Sequential(\n",
        "            nn.Linear(filter_num * len(self.filter_sizes), 64),\n",
        "            nn.ReLU(),\n",
        "            nn.BatchNorm1d(64),\n",
        "            nn.Dropout(0.3),\n",
        "            nn.Linear(64, 10),\n",
        "            nn.Softmax(dim=1)\n",
        "        )\n",
        "    \n",
        "    def forward(self, x):\n",
        "        #print('input:', x.size())\n",
        "        out = self.emb(x)\n",
        "        #print('emb:', out.size())\n",
        "        emb_out = out.unsqueeze(1) # Insert a dimension\n",
        "        #print('emb_ex:', emb_out.size())\n",
        "\n",
        "        concat_out = torch.cat((self.conv0(emb_out), self.conv1(emb_out), self.conv2(emb_out), self.conv3(emb_out)), 1)\n",
        "        #print('concatnated:', concat_out.size())\n",
        "        out = concat_out.view(-1, self.filter_num * len(self.filter_sizes))\n",
        "        #print('flatten:', out.size())\n",
        "        out = self.dense(out)\n",
        "        #print('output:', out.size())\n",
        "        \n",
        "        return out\n",
        "        \n",
        "def train(model, optimizer, criterion, train_loader):\n",
        "    model.train()\n",
        "    running_loss = 0\n",
        "    for batch_idx, (labels, idol_ids, scripts)  in enumerate(train_loader):\n",
        "        labels = labels.to(device)\n",
        "        scripts = scripts.to(device)\n",
        "\n",
        "        optimizer.zero_grad()\n",
        "        outputs = model(scripts)\n",
        "\n",
        "        loss = criterion(outputs, labels)\n",
        "        running_loss += loss.item()\n",
        "\n",
        "        loss.backward()\n",
        "        optimizer.step()\n",
        "    \n",
        "    train_loss = running_loss / len(train_loader)\n",
        "\n",
        "    return train_loss\n",
        "\n",
        "def valid(model, optimizer, criterion, test_loader):\n",
        "    model.eval()\n",
        "    running_loss = 0\n",
        "    correct = 0\n",
        "    total = 0\n",
        "\n",
        "    with torch.no_grad():\n",
        "        for batch_idx, (labels, idol_ids, scripts)  in enumerate(test_loader):\n",
        "            labels = labels.to(device)\n",
        "            scripts = scripts.to(device)\n",
        "\n",
        "            outputs = model(scripts)\n",
        "\n",
        "            loss = criterion(outputs, labels)\n",
        "            running_loss += loss.item()\n",
        "\n",
        "            predicted = outputs.max(1, keepdim=True)[1] # Get the index of the max log-probability\n",
        "            correct += predicted.eq(labels.view_as(predicted)).sum().item()\n",
        "            total += labels.size(0) # Dim 0 is Batch size\n",
        "    \n",
        "    val_loss = running_loss / len(test_loader)\n",
        "    val_acc = correct / total\n",
        "\n",
        "    return val_loss, val_acc\n",
        "\n",
        "def fit(model, optimizer, criterion, train_loader, test_loader, learning_rate, num_epochs):\n",
        "    loss_list = []\n",
        "    val_loss_list = []\n",
        "    val_acc_list = []\n",
        "    for epoch in range(num_epochs):\n",
        "        loss = train(model, optimizer, criterion, train_loader)\n",
        "        val_loss, val_acc = valid(model, optimizer, criterion, test_loader)\n",
        "\n",
        "        print('epoch %d, loss: %.4f val_loss: %.4f val_acc: %.4f' % (epoch, loss, val_loss, val_acc))\n",
        "\n",
        "        # Logging\n",
        "        loss_list.append(loss)\n",
        "        val_loss_list.append(val_loss)\n",
        "        val_acc_list.append(val_acc)\n",
        "    \n",
        "    print('Finished training.')\n",
        "    \n",
        "    # Save the trained model\n",
        "    #np.save('loss_list.npy', np.array(loss_list))\n",
        "    #np.save('val_loss_list.npy', np.array(val_loss_list))\n",
        "    #np.save('val_acc_list.npy', np.array(val_acc_list))\n",
        "    torch.save(model.state_dict(), root_dir + 'clcnn.pkl')\n",
        "    \n",
        "    return loss_list, val_loss_list, val_acc_list\n",
        "\n",
        "def plot_history(loss_list, val_loss_list, val_acc_list):\n",
        "    # Plot loss curve\n",
        "    display('Model Loss')\n",
        "    plt.plot(loss_list,\".-\",label=\"loss\",)\n",
        "    plt.plot(val_loss_list,\".-\",label=\"val_loss\")\n",
        "    plt.title('model loss')\n",
        "    plt.xlabel('epoch')\n",
        "    plt.ylabel('loss')\n",
        "    plt.legend()\n",
        "    plt.show()\n",
        "\n",
        "    # Plot accurancy curve\n",
        "    display('Model Acc')\n",
        "    #plt.plot(history.history['acc'],\".-\",label=\"accuracy\")\n",
        "    plt.plot(val_acc_list,\".-\",label=\"val_acc\")\n",
        "    plt.title('model accuracy')\n",
        "    plt.xlabel('epoch')\n",
        "    plt.ylabel('accuracy')\n",
        "    plt.legend()\n",
        "    plt.show()\n",
        "\n",
        "def result_report(model, test_loader):\n",
        "    global idol_dict\n",
        "    # Classification Report\n",
        "    y_true = []\n",
        "    y_pred = []\n",
        "    for i, (y, z, x) in enumerate(test_loader):\n",
        "        y = y.to(device)\n",
        "        x = x.to(device)\n",
        "\n",
        "        with torch.no_grad():\n",
        "            output = model(x)\n",
        "        y_pred += [idol_dict[int(l.argmax())] for l in output]\n",
        "        y_true += [idol_dict[int(l)] for l in y]\n",
        "\n",
        "    print(classification_report(y_true, y_pred))\n",
        "    \n",
        "    # Confusion Matrix\n",
        "    plt.figure()\n",
        "    fig, ax = plt.subplots(figsize=(9, 6)) \n",
        "    labels = [idol_dict[i] for i in range(len(idol_dict))]\n",
        "    cmx_data = confusion_matrix(y_true, y_pred, labels=labels)\n",
        "    cmx_df = pd.DataFrame(cmx_data, index=labels, columns=labels)\n",
        "    sns.heatmap(cmx_df, square=True, annot=True, cmap='Blues')\n",
        "    plt.savefig(root_dir + 'cmx.png')"
      ],
      "execution_count": 9,
      "outputs": [
        {
          "output_type": "stream",
          "text": [
            "Device: cuda\n"
          ],
          "name": "stdout"
        }
      ]
    },
    {
      "metadata": {
        "id": "mYwF6yOVHL1u",
        "colab_type": "code",
        "outputId": "85f7852e-e938-4c60-f822-92399070dfb6",
        "colab": {
          "base_uri": "https://localhost:8080/",
          "height": 2553
        }
      },
      "cell_type": "code",
      "source": [
        "# Million Live Idol Scripts Dataset (Scripts and Labels)\n",
        "transformed_script_dataset = MillionLiveIdolScriptsDataset(transform=StringToTensor(max_length))\n",
        "# Split dataset\n",
        "train_data, test_data = train_test_split(transformed_script_dataset, test_size=0.25)\n",
        "# Dataset Loader\n",
        "train_loader = DataLoader(train_data, batch_size=batch_size, shuffle=True, num_workers=10)\n",
        "test_loader = DataLoader(test_data, batch_size=batch_size, shuffle=False, num_workers=10)\n",
        "\n",
        "\"\"\"\n",
        "for i_batch, (id, idol_id, script)  in enumerate(train_loader):\n",
        "    print('index:', i_batch)\n",
        "    print('id:', id.size())\n",
        "    print('idol_id:', idol_id)\n",
        "    print('script:', script.size())\n",
        "\"\"\"\n",
        "learning_rate = 0.001\n",
        "num_epochs = 50\n",
        "\n",
        "# Create model\n",
        "model = CLCNN(max_length=max_length).to(device)\n",
        "optimizer = optim.Adam(model.parameters(), lr=learning_rate)\n",
        "criterion = nn.CrossEntropyLoss()\n",
        "print(model)\n",
        "\n",
        "# Generate an idol dictionary\n",
        "idol_df = transformed_script_dataset.idol_data_frame.set_index('id')\n",
        "idol_dict = idol_df['idol_id'].drop_duplicates().to_dict()\n",
        "\n",
        "# Fit\n",
        "loss_list, val_loss_list, val_acc_list = fit(model, optimizer, criterion, train_loader, test_loader, learning_rate, num_epochs)"
      ],
      "execution_count": 10,
      "outputs": [
        {
          "output_type": "stream",
          "text": [
            "      id idol_id                                             script\n",
            "0      0  haruka                 トップアイドル目指して、歌も踊りも頑張ります！よろしくお願いします♪\n",
            "1      0  haruka                               お仕事、頑張るぞー！なーんて、えへへ…。\n",
            "2      0  haruka                                   張り切っていっちゃいましょうっ！\n",
            "3      0  haruka                      あの、クッキー焼いてきたんですけど、食べてもらえますか…？\n",
            "4      0  haruka                              プロデューサーさん、いつもお疲れさまです♪\n",
            "5      0  haruka                          いたたた…。うう、事務所の前で転んじゃいました…。\n",
            "6      0  haruka                             えへへっ。私、すっごくワクワクしてきました！\n",
            "7      0  haruka                             よろしくお願いします、プロデューサーさんっ！\n",
            "8      0  haruka            ふわあぁ～…っ！あっ、す、すみません！恥ずかしいところ、見られちゃいました…。\n",
            "9      0  haruka  私を応援してくれてるファンの人って、どのぐらいいるのかなぁ…。プロデューサーさん、気になりま...\n",
            "10     0  haruka      昨日、劇場のみんなとカラオケに行ってきたんです！プロデューサーさんも来ればよかったのに～。\n",
            "11     0  haruka                       プロデューサーさんとなら私、どこまでも頑張れそうですっ！\n",
            "12     0  haruka  プロデューサーさん、ケーキとクッキーだったらどっちが好きですか？…あ、えっとその、今後の参考...\n",
            "13     0  haruka   プロデューサーさん、私、まだまだ満足したくないですっ！もっともっと、たくさん歌を歌いたいから…！\n",
            "14     0  haruka           あの、プロデューサーさんの好きなお料理って何ですか？…練習しとこうかな、なんて♪\n",
            "15     0  haruka           プロデューサーさん、あんまりムリはしないで下さいね？やっぱり、健康が第一ですよ！\n",
            "16     0  haruka    アイドルをお仕事にできるなんて、私って本当に幸せです♪おまけに担当がプロデューサーさんですし！\n",
            "17     0  haruka    もっといろんなイベントで、ファンのみんなやプロデューサーさんと一緒に楽しんでいけたらいいな…♪\n",
            "18     0  haruka       私達も劇場も、成長していくんですよね。これからどんなふうに変わるか、とっても楽しみです♪\n",
            "19     0  haruka  いつも私の相談にのってもらってばかりですよね。よし、今度は私が相談のりますよ、プロデュ－サ－さん♪\n",
            "20     0  haruka       劇場のみんなと、プロデュ－サ－さんと一緒に…。ずっとこういう日が続けばいいなぁ、なんて♪\n",
            "21     0  haruka       あっ！あんなところに、手作りのお菓子屋さんが！？時間があったらゼッタイ寄ったのになぁ…。\n",
            "22     0  haruka                                えへへっ♪歌のお仕事って、大好きです！\n",
            "23     0  haruka                            こんなステキな曲が歌えるなんて…夢みたいです！\n",
            "24     0  haruka                          わぁ…かわいい衣装！着るのが楽しみです！えへへっ♪\n",
            "25     0  haruka                                   わわっ！！ご、ごめんなさいっ！！\n",
            "26     0  haruka                            ファンのみんなにも楽しんでもらえてるのかな…？\n",
            "27     0  haruka                              プロデューサーさん、のどかわいてませんか？\n",
            "28     0  haruka                           元気がよくてよろしい、ってほめられちゃいました！\n",
            "29     0  haruka                               失敗しちゃいました。うう…すみません…。\n",
            "...   ..     ...                                                ...\n",
            "1679   9     nao  さっき、恵美のトランペット吹かせてもうたけど、ぷすー、ぷすー、言うだけで音出んかったわ…。壊...\n",
            "1680   9     nao    なあなあプロデューサーさん、私のスマイルどうです？街の人らみ～んな観に来てるし、失敗できんな！\n",
            "1681   9     nao                   彼氏にも1個オマケ…って、この人と私はカップルちゃいますよー！？\n",
            "1682   9     nao               うええっ！？ち、ちょっ、待ってやオバちゃん！…な、プロデューサーさん…？\n",
            "1683   9     nao  クレープ屋さんのオバちゃん、まだ私らのことカップルやと思ってるんやなぁ…。誤解、解いた方がい...\n",
            "1684   9     nao     わ、私は別に困ってないですよ！？プロデューサーさんがいいなら、別に…ずっと、このままでも…。\n",
            "1685   9     nao     プロデューサーさん、私のイチゴクレープ一口食べます？美味しいものは、シェアするのが鉄則やな♪\n",
            "1686   9     nao  うわ、メッチャお客さんがおる！？こんなに大勢、私らのライブを観にきてくれたんですね…。よっし...\n",
            "1687   9     nao  うわ、メッチャお客さんがおる！？こんなに大勢、私らのライブを観にきてくれたんですね…。よっし...\n",
            "1688   9     nao  なあワンちゃん、答えてや～？お手！お手やって！お手ですのよ～！？…アカン、関西弁も東京弁も通...\n",
            "1689   9     nao  アオノリ～、撮影始まるまで私の膝でおとなしくしとこうな～。ふふ、言うコト聞いてエエ子やな♪…...\n",
            "1690   9     nao  アカン…めっちゃ切ない歌詞に、涙腺ウルッとしてきた…！こんな曲を歌いこなすなんて、流石は美希...\n",
            "1691   9     nao                                          一日のはじまりに…\n",
            "1692   9     nao  夜空に浮かぶ摩天楼、暗闇に輝くネオンの光。そして、響く歌声…。今夜の私達のステージを、キャラ...\n",
            "1693   9     nao                                          一日のはじまりに…\n",
            "1694   9     nao  ライブの翌朝、さわやかな風が吹き抜けるカフェ、メッチャオシャレな朝ごはん…むふ♪…なぁなぁプ...\n",
            "1695   9     nao  ついに、ついにこの日が来たんやな…全国ツアーライブ！私、ずーっと楽しみにしてたんやで！ほらほ...\n",
            "1696   9     nao  ついに、ついにこの日が来たんやな…全国ツアーライブ！私、ずーっと楽しみにしてたんやで！ほらほ...\n",
            "1697   9     nao  スタジアムでのライブ、気合入るな～。みんな、元気にいっくでー？私のパワーは夏の太陽にも負けへ...\n",
            "1698   9     nao  わわっ！？みんな待ってや～！焦らんでも、ニンジンはなくならへんって…うはは、メッチャくすぐっ...\n",
            "1699   9     nao  このステッキを使って、敵を退ければええんやな！…って、わわ！囲まれてもうた！？ま、まだ私は準...\n",
            "1700   9     nao  イェーイ！みんな、盛り上がってますかー！？私らがお日様みたいに輝けるのは、みんなが応援してく...\n",
            "1701   9     nao                                       セクシーアイドル、奈緒？\n",
            "1702   9     nao  私らはパンクやんな♪オールドファッションと思って甘く見たら、ケガするで♪私らのこの歌で、世界...\n",
            "1703   9     nao                                       セクシーアイドル、奈緒？\n",
            "1704   9     nao  あのな…笑わないで、聴いてな？私、こんなセクシーな歌が歌えるんかなって、最初はメッチャドキド...\n",
            "1705   9     nao  プロデューサーさんがいてくれたから、私、ここまで頑張ってこれたんやと思います！これからもずっ...\n",
            "1706   9     nao  プロデューサーさんがいてくれたから、私、ここまで頑張ってこれたんやと思います！これからもずっ...\n",
            "1707   9     nao  プロデューサーさん、見て！この店のタコ焼き、コレ絶対めっちゃおいしいやつですよ！私にはわかる...\n",
            "1708   9     nao  おいしいものも大好きやけど、みんなと一緒に歌って踊るのが、今は一番楽しいわ♪よっしゃ、元気に...\n",
            "\n",
            "[1709 rows x 3 columns]\n",
            "CLCNN(\n",
            "  (emb): Embedding(65535, 256, padding_idx=0)\n",
            "  (conv0): Sequential(\n",
            "    (0): Conv2d(1, 512, kernel_size=(2, 256), stride=(1, 1))\n",
            "    (1): ReLU()\n",
            "    (2): MaxPool2d(kernel_size=(89, 1), stride=(89, 1), padding=0, dilation=1, ceil_mode=False)\n",
            "  )\n",
            "  (conv1): Sequential(\n",
            "    (0): Conv2d(1, 512, kernel_size=(3, 256), stride=(1, 1))\n",
            "    (1): ReLU()\n",
            "    (2): MaxPool2d(kernel_size=(88, 1), stride=(88, 1), padding=0, dilation=1, ceil_mode=False)\n",
            "  )\n",
            "  (conv2): Sequential(\n",
            "    (0): Conv2d(1, 512, kernel_size=(4, 256), stride=(1, 1))\n",
            "    (1): ReLU()\n",
            "    (2): MaxPool2d(kernel_size=(87, 1), stride=(87, 1), padding=0, dilation=1, ceil_mode=False)\n",
            "  )\n",
            "  (conv3): Sequential(\n",
            "    (0): Conv2d(1, 512, kernel_size=(5, 256), stride=(1, 1))\n",
            "    (1): ReLU()\n",
            "    (2): MaxPool2d(kernel_size=(86, 1), stride=(86, 1), padding=0, dilation=1, ceil_mode=False)\n",
            "  )\n",
            "  (dense): Sequential(\n",
            "    (0): Linear(in_features=2048, out_features=64, bias=True)\n",
            "    (1): ReLU()\n",
            "    (2): BatchNorm1d(64, eps=1e-05, momentum=0.1, affine=True, track_running_stats=True)\n",
            "    (3): Dropout(p=0.3)\n",
            "    (4): Linear(in_features=64, out_features=10, bias=True)\n",
            "    (5): Softmax()\n",
            "  )\n",
            ")\n",
            "epoch 0, loss: 2.2663 val_loss: 2.2240 val_acc: 0.2944\n",
            "epoch 1, loss: 2.1910 val_loss: 2.1530 val_acc: 0.4813\n",
            "epoch 2, loss: 2.1336 val_loss: 2.1409 val_acc: 0.5748\n",
            "epoch 3, loss: 2.0610 val_loss: 2.1098 val_acc: 0.5070\n",
            "epoch 4, loss: 1.9803 val_loss: 2.0742 val_acc: 0.6589\n",
            "epoch 5, loss: 1.8993 val_loss: 2.0590 val_acc: 0.6192\n",
            "epoch 6, loss: 1.8051 val_loss: 2.0092 val_acc: 0.7126\n",
            "epoch 7, loss: 1.7334 val_loss: 1.9758 val_acc: 0.6939\n",
            "epoch 8, loss: 1.6670 val_loss: 1.9563 val_acc: 0.7220\n",
            "epoch 9, loss: 1.6181 val_loss: 1.9437 val_acc: 0.6963\n",
            "epoch 10, loss: 1.5999 val_loss: 1.9488 val_acc: 0.6589\n",
            "epoch 11, loss: 1.5810 val_loss: 1.9138 val_acc: 0.6869\n",
            "epoch 12, loss: 1.5526 val_loss: 1.9032 val_acc: 0.6869\n",
            "epoch 13, loss: 1.5305 val_loss: 1.8922 val_acc: 0.7103\n",
            "epoch 14, loss: 1.5189 val_loss: 1.8724 val_acc: 0.7383\n",
            "epoch 15, loss: 1.5090 val_loss: 1.8514 val_acc: 0.7430\n",
            "epoch 16, loss: 1.5005 val_loss: 1.8494 val_acc: 0.7593\n",
            "epoch 17, loss: 1.4956 val_loss: 1.8399 val_acc: 0.7523\n",
            "epoch 18, loss: 1.4915 val_loss: 1.8353 val_acc: 0.7500\n",
            "epoch 19, loss: 1.4876 val_loss: 1.8341 val_acc: 0.7290\n",
            "epoch 20, loss: 1.4869 val_loss: 1.8227 val_acc: 0.7593\n",
            "epoch 21, loss: 1.4840 val_loss: 1.8310 val_acc: 0.7453\n",
            "epoch 22, loss: 1.4811 val_loss: 1.8307 val_acc: 0.7453\n",
            "epoch 23, loss: 1.4805 val_loss: 1.8243 val_acc: 0.7336\n",
            "epoch 24, loss: 1.4797 val_loss: 1.8130 val_acc: 0.7477\n",
            "epoch 25, loss: 1.4792 val_loss: 1.8234 val_acc: 0.7430\n",
            "epoch 26, loss: 1.4769 val_loss: 1.8096 val_acc: 0.7547\n",
            "epoch 27, loss: 1.4763 val_loss: 1.8100 val_acc: 0.7477\n",
            "epoch 28, loss: 1.4749 val_loss: 1.8036 val_acc: 0.7477\n",
            "epoch 29, loss: 1.4746 val_loss: 1.8075 val_acc: 0.7430\n",
            "epoch 30, loss: 1.4736 val_loss: 1.7922 val_acc: 0.7617\n",
            "epoch 31, loss: 1.4728 val_loss: 1.7953 val_acc: 0.7664\n",
            "epoch 32, loss: 1.4720 val_loss: 1.7937 val_acc: 0.7547\n",
            "epoch 33, loss: 1.4722 val_loss: 1.7901 val_acc: 0.7664\n",
            "epoch 34, loss: 1.4718 val_loss: 1.7964 val_acc: 0.7430\n",
            "epoch 35, loss: 1.4711 val_loss: 1.7912 val_acc: 0.7617\n",
            "epoch 36, loss: 1.4713 val_loss: 1.7953 val_acc: 0.7523\n",
            "epoch 37, loss: 1.4705 val_loss: 1.7883 val_acc: 0.7640\n",
            "epoch 38, loss: 1.4703 val_loss: 1.7913 val_acc: 0.7593\n",
            "epoch 39, loss: 1.4704 val_loss: 1.7996 val_acc: 0.7336\n",
            "epoch 40, loss: 1.4701 val_loss: 1.7904 val_acc: 0.7523\n",
            "epoch 41, loss: 1.4699 val_loss: 1.7830 val_acc: 0.7593\n",
            "epoch 42, loss: 1.4695 val_loss: 1.7936 val_acc: 0.7430\n",
            "epoch 43, loss: 1.4692 val_loss: 1.7873 val_acc: 0.7523\n",
            "epoch 44, loss: 1.4686 val_loss: 1.7809 val_acc: 0.7547\n",
            "epoch 45, loss: 1.4687 val_loss: 1.7848 val_acc: 0.7430\n",
            "epoch 46, loss: 1.4687 val_loss: 1.7752 val_acc: 0.7617\n",
            "epoch 47, loss: 1.4683 val_loss: 1.7771 val_acc: 0.7617\n",
            "epoch 48, loss: 1.4684 val_loss: 1.7757 val_acc: 0.7547\n",
            "epoch 49, loss: 1.4684 val_loss: 1.7756 val_acc: 0.7407\n",
            "Finished training.\n"
          ],
          "name": "stdout"
        }
      ]
    },
    {
      "metadata": {
        "id": "V_tYFThFGu_C",
        "colab_type": "text"
      },
      "cell_type": "markdown",
      "source": [
        "## Model Loss and Model Accuracy"
      ]
    },
    {
      "metadata": {
        "id": "twwxuKX0G4F2",
        "colab_type": "code",
        "outputId": "df9d2bd3-5ce8-4932-b7d4-8ae1e92c2fd0",
        "colab": {
          "base_uri": "https://localhost:8080/",
          "height": 770
        }
      },
      "cell_type": "code",
      "source": [
        "plot_history(loss_list, val_loss_list, val_acc_list)"
      ],
      "execution_count": 11,
      "outputs": [
        {
          "output_type": "display_data",
          "data": {
            "text/plain": [
              "'Model Loss'"
            ]
          },
          "metadata": {
            "tags": []
          }
        },
        {
          "output_type": "display_data",
          "data": {
            "image/png": "[encoded data removed]",
            "text/plain": [
              "<Figure size 576x396 with 1 Axes>"
            ]
          },
          "metadata": {
            "tags": []
          }
        },
        {
          "output_type": "display_data",
          "data": {
            "text/plain": [
              "'Model Acc'"
            ]
          },
          "metadata": {
            "tags": []
          }
        },
        {
          "output_type": "display_data",
          "data": {
            "image/png": "[encoded data removed]",
            "text/plain": [
              "<Figure size 576x396 with 1 Axes>"
            ]
          },
          "metadata": {
            "tags": []
          }
        }
      ]
    },
    {
      "metadata": {
        "id": "x7jj-L7SG5pr",
        "colab_type": "text"
      },
      "cell_type": "markdown",
      "source": [
        "## Reports"
      ]
    },
    {
      "metadata": {
        "id": "teaECcW9G5b7",
        "colab_type": "code",
        "outputId": "17afdcfa-2cae-4b52-8ec8-6ba3b904d30f",
        "colab": {
          "base_uri": "https://localhost:8080/",
          "height": 691
        }
      },
      "cell_type": "code",
      "source": [
        "result_report(model, test_loader)"
      ],
      "execution_count": 12,
      "outputs": [
        {
          "output_type": "stream",
          "text": [
            "              precision    recall  f1-score   support\n",
            "\n",
            "     chihaya       0.67      0.48      0.56        42\n",
            "       emily       1.00      0.62      0.76        42\n",
            "      haruka       0.71      0.65      0.68        46\n",
            "       karen       0.69      0.85      0.76        53\n",
            "     matsuri       1.00      0.89      0.94        54\n",
            "      mizuki       0.75      0.73      0.74        41\n",
            "         nao       0.80      0.97      0.88        37\n",
            "       shiho       0.72      0.74      0.73        38\n",
            "      takane       0.55      0.78      0.64        37\n",
            "      yukiho       0.62      0.66      0.64        38\n",
            "\n",
            "   micro avg       0.74      0.74      0.74       428\n",
            "   macro avg       0.75      0.74      0.73       428\n",
            "weighted avg       0.76      0.74      0.74       428\n",
            "\n"
          ],
          "name": "stdout"
        },
        {
          "output_type": "display_data",
          "data": {
            "text/plain": [
              "<Figure size 576x396 with 0 Axes>"
            ]
          },
          "metadata": {
            "tags": []
          }
        },
        {
          "output_type": "display_data",
          "data": {
            "image/png": "[encoded data removed]",
            "text/plain": [
              "<Figure size 648x432 with 2 Axes>"
            ]
          },
          "metadata": {
            "tags": []
          }
        }
      ]
    },
    {
      "metadata": {
        "id": "kfVAWbrUrX8x",
        "colab_type": "text"
      },
      "cell_type": "markdown",
      "source": [
        "# Prediction"
      ]
    },
    {
      "metadata": {
        "id": "sg44cWKIoiKA",
        "colab_type": "code",
        "colab": {}
      },
      "cell_type": "code",
      "source": [
        "def string_to_codepoint(_str, max_length=max_length):\n",
        "    _encoded_str = [ord(_x) for _x in str(_str).strip()]\n",
        "    _encoded_str = _encoded_str[:max_length]\n",
        "    _str_len = len(str(_str)) # String length\n",
        "    if _str_len < max_length: # If string length is less than a num of max_length, do zero padding\n",
        "        _encoded_str += ([0] * (max_length - _str_len))\n",
        "    \n",
        "    return _encoded_str"
      ],
      "execution_count": 0,
      "outputs": []
    },
    {
      "metadata": {
        "id": "XONpG0gWrmbA",
        "colab_type": "code",
        "colab": {}
      },
      "cell_type": "code",
      "source": [
        "def predict(model, input_str):\n",
        "    model = model.eval()\n",
        "    with torch.no_grad():\n",
        "        output = model(input_str)\n",
        "    \n",
        "    return output"
      ],
      "execution_count": 0,
      "outputs": []
    },
    {
      "metadata": {
        "id": "R7_EgclOqwZg",
        "colab_type": "code",
        "outputId": "2010f08c-b749-4355-be2b-89f9359c1f5b",
        "colab": {
          "base_uri": "https://localhost:8080/",
          "height": 380
        }
      },
      "cell_type": "code",
      "source": [
        "encoded_str = torch.LongTensor(string_to_codepoint(input('Type a script:'))).unsqueeze(0).to(device)\n",
        "#print(encoded_str.size())\n",
        "result = predict(model, encoded_str)\n",
        "res_df = pd.DataFrame(result.cpu().numpy())\n",
        "res_df.rename(columns=idol_dict, index={0: 'likelihood'}, inplace=True)\n",
        "res_df = res_df.T.sort_values('likelihood', ascending=False)\n",
        "res_df"
      ],
      "execution_count": 18,
      "outputs": [
        {
          "output_type": "stream",
          "text": [
            "Type a script:私の心に明かりを灯してくれたのは、みんなと……プロデューサーです。これまで共に歩んだ軌跡を胸に……これからも、ずっと……。\n"
          ],
          "name": "stdout"
        },
        {
          "output_type": "execute_result",
          "data": {
            "text/html": [
              "<div>\n",
              "<style scoped>\n",
              "    .dataframe tbody tr th:only-of-type {\n",
              "        vertical-align: middle;\n",
              "    }\n",
              "\n",
              "    .dataframe tbody tr th {\n",
              "        vertical-align: top;\n",
              "    }\n",
              "\n",
              "    .dataframe thead th {\n",
              "        text-align: right;\n",
              "    }\n",
              "</style>\n",
              "<table border=\"1\" class=\"dataframe\">\n",
              "  <thead>\n",
              "    <tr style=\"text-align: right;\">\n",
              "      <th></th>\n",
              "      <th>likelihood</th>\n",
              "    </tr>\n",
              "  </thead>\n",
              "  <tbody>\n",
              "    <tr>\n",
              "      <th>chihaya</th>\n",
              "      <td>0.991828</td>\n",
              "    </tr>\n",
              "    <tr>\n",
              "      <th>mizuki</th>\n",
              "      <td>0.003587</td>\n",
              "    </tr>\n",
              "    <tr>\n",
              "      <th>takane</th>\n",
              "      <td>0.001248</td>\n",
              "    </tr>\n",
              "    <tr>\n",
              "      <th>yukiho</th>\n",
              "      <td>0.000794</td>\n",
              "    </tr>\n",
              "    <tr>\n",
              "      <th>emily</th>\n",
              "      <td>0.000676</td>\n",
              "    </tr>\n",
              "    <tr>\n",
              "      <th>karen</th>\n",
              "      <td>0.000474</td>\n",
              "    </tr>\n",
              "    <tr>\n",
              "      <th>haruka</th>\n",
              "      <td>0.000428</td>\n",
              "    </tr>\n",
              "    <tr>\n",
              "      <th>matsuri</th>\n",
              "      <td>0.000396</td>\n",
              "    </tr>\n",
              "    <tr>\n",
              "      <th>nao</th>\n",
              "      <td>0.000339</td>\n",
              "    </tr>\n",
              "    <tr>\n",
              "      <th>shiho</th>\n",
              "      <td>0.000230</td>\n",
              "    </tr>\n",
              "  </tbody>\n",
              "</table>\n",
              "</div>"
            ],
            "text/plain": [
              "         likelihood\n",
              "chihaya    0.991828\n",
              "mizuki     0.003587\n",
              "takane     0.001248\n",
              "yukiho     0.000794\n",
              "emily      0.000676\n",
              "karen      0.000474\n",
              "haruka     0.000428\n",
              "matsuri    0.000396\n",
              "nao        0.000339\n",
              "shiho      0.000230"
            ]
          },
          "metadata": {
            "tags": []
          },
          "execution_count": 18
        }
      ]
    }
  ]
}